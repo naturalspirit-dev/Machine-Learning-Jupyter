{
 "cells": [
  {
   "cell_type": "markdown",
   "metadata": {},
   "source": [
    "# Multi-variate Rregression Metamodel with DOE based on random sampling\n",
    "* Input variable space should be constructed using random sampling, not classical factorial DOE\n",
    "* Linear fit is often inadequate but higher-order polynomial fits often leads to overfitting i.e. learns spurious, flawed relationships between input and output\n",
    "* R-square fit can often be misleding measure in case of high-dimensional regression\n",
    "* Metamodel can be constructed by selectively discovering features (or their combination) which matter and shrinking other high-order terms towards zero\n",
    "\n",
    "#### LASSO: Least Absolute Shrinkage and Selection Operator\n",
    "$$ {\\displaystyle \\min _{\\beta _{0},\\beta }\\left\\{{\\frac {1}{N}}\\sum _{i=1}^{N}(y_{i}-\\beta _{0}-x_{i}^{T}\\beta )^{2}\\right\\}{\\text{ subject to }}\\sum _{j=1}^{p}|\\beta _{j}|\\leq t.} $$"
   ]
  },
  {
   "cell_type": "markdown",
   "metadata": {},
   "source": [
    "### Import libraries"
   ]
  },
  {
   "cell_type": "code",
   "execution_count": 693,
   "metadata": {
    "collapsed": true
   },
   "outputs": [],
   "source": [
    "import numpy as np\n",
    "import pandas as pd\n",
    "import matplotlib.pyplot as plt\n",
    "%matplotlib inline"
   ]
  },
  {
   "cell_type": "markdown",
   "metadata": {},
   "source": [
    "### Generate random (equivalent to Latin Hypercube sampling done in Optislang) feature vectors"
   ]
  },
  {
   "cell_type": "code",
   "execution_count": 694,
   "metadata": {
    "collapsed": true
   },
   "outputs": [],
   "source": [
    "X=np.array(10*np.random.randn(37,5))"
   ]
  },
  {
   "cell_type": "code",
   "execution_count": 695,
   "metadata": {},
   "outputs": [],
   "source": [
    "df=pd.DataFrame(X,columns=['Feature'+str(l) for l in range(1,6)])"
   ]
  },
  {
   "cell_type": "code",
   "execution_count": 696,
   "metadata": {},
   "outputs": [
    {
     "data": {
      "text/html": [
       "<div>\n",
       "<style>\n",
       "    .dataframe thead tr:only-child th {\n",
       "        text-align: right;\n",
       "    }\n",
       "\n",
       "    .dataframe thead th {\n",
       "        text-align: left;\n",
       "    }\n",
       "\n",
       "    .dataframe tbody tr th {\n",
       "        vertical-align: top;\n",
       "    }\n",
       "</style>\n",
       "<table border=\"1\" class=\"dataframe\">\n",
       "  <thead>\n",
       "    <tr style=\"text-align: right;\">\n",
       "      <th></th>\n",
       "      <th>Feature1</th>\n",
       "      <th>Feature2</th>\n",
       "      <th>Feature3</th>\n",
       "      <th>Feature4</th>\n",
       "      <th>Feature5</th>\n",
       "    </tr>\n",
       "  </thead>\n",
       "  <tbody>\n",
       "    <tr>\n",
       "      <th>0</th>\n",
       "      <td>-15.997601</td>\n",
       "      <td>-4.933278</td>\n",
       "      <td>-5.206895</td>\n",
       "      <td>-2.417936</td>\n",
       "      <td>1.024404</td>\n",
       "    </tr>\n",
       "    <tr>\n",
       "      <th>1</th>\n",
       "      <td>-13.339343</td>\n",
       "      <td>-3.551986</td>\n",
       "      <td>2.776823</td>\n",
       "      <td>22.302992</td>\n",
       "      <td>0.698927</td>\n",
       "    </tr>\n",
       "    <tr>\n",
       "      <th>2</th>\n",
       "      <td>-14.903377</td>\n",
       "      <td>4.531416</td>\n",
       "      <td>-12.613780</td>\n",
       "      <td>-10.810093</td>\n",
       "      <td>3.126361</td>\n",
       "    </tr>\n",
       "    <tr>\n",
       "      <th>3</th>\n",
       "      <td>-0.823381</td>\n",
       "      <td>-1.298061</td>\n",
       "      <td>9.710988</td>\n",
       "      <td>2.123858</td>\n",
       "      <td>-3.908869</td>\n",
       "    </tr>\n",
       "    <tr>\n",
       "      <th>4</th>\n",
       "      <td>-12.360237</td>\n",
       "      <td>7.809253</td>\n",
       "      <td>2.944835</td>\n",
       "      <td>-18.778127</td>\n",
       "      <td>5.706142</td>\n",
       "    </tr>\n",
       "  </tbody>\n",
       "</table>\n",
       "</div>"
      ],
      "text/plain": [
       "    Feature1  Feature2   Feature3   Feature4  Feature5\n",
       "0 -15.997601 -4.933278  -5.206895  -2.417936  1.024404\n",
       "1 -13.339343 -3.551986   2.776823  22.302992  0.698927\n",
       "2 -14.903377  4.531416 -12.613780 -10.810093  3.126361\n",
       "3  -0.823381 -1.298061   9.710988   2.123858 -3.908869\n",
       "4 -12.360237  7.809253   2.944835 -18.778127  5.706142"
      ]
     },
     "execution_count": 696,
     "metadata": {},
     "output_type": "execute_result"
    }
   ],
   "source": [
    "df.head()"
   ]
  },
  {
   "cell_type": "markdown",
   "metadata": {},
   "source": [
    "### Plot the random distributions of input features"
   ]
  },
  {
   "cell_type": "code",
   "execution_count": 697,
   "metadata": {
    "scrolled": false
   },
   "outputs": [
    {
     "data": {
      "image/png": "[encoded data removed]",
      "text/plain": [
       "<matplotlib.figure.Figure at 0x1cc301d0>"
      ]
     },
     "metadata": {},
     "output_type": "display_data"
    },
    {
     "data": {
      "image/png": "[encoded data removed]",
      "text/plain": [
       "<matplotlib.figure.Figure at 0x217d8f60>"
      ]
     },
     "metadata": {},
     "output_type": "display_data"
    },
    {
     "data": {
      "image/png": "[encoded data removed]",
      "text/plain": [
       "<matplotlib.figure.Figure at 0x26020898>"
      ]
     },
     "metadata": {},
     "output_type": "display_data"
    },
    {
     "data": {
      "image/png": "[encoded data removed]",
      "text/plain": [
       "<matplotlib.figure.Figure at 0x2609e1d0>"
      ]
     },
     "metadata": {},
     "output_type": "display_data"
    },
    {
     "data": {
      "image/png": "[encoded data removed]",
      "text/plain": [
       "<matplotlib.figure.Figure at 0x260adba8>"
      ]
     },
     "metadata": {},
     "output_type": "display_data"
    }
   ],
   "source": [
    "for i in df.columns:\n",
    "    df.hist(i,bins=5,xlabelsize=15,ylabelsize=15,figsize=(8,6))"
   ]
  },
  {
   "cell_type": "markdown",
   "metadata": {},
   "source": [
    "### Generate the output variable by analytic function + Gaussian noise (our goal will be to *'learn'* this function)"
   ]
  },
  {
   "cell_type": "markdown",
   "metadata": {},
   "source": [
    "$$ The\\ ground\\ truth\\ or\\ originating\\ function\\ is\\ as\\ follows:\\  $$\n",
    " \n",
    "$$ y=f(x_1,x_2,x_3,x_4,x_5)= 5x_1^2+13x_2+0.001x_3+2x_4x_5+0.1x_5^3+0.8x_1x_4x_5+\\psi(x) $$\n",
    "\n",
    "$$: \\psi(x) = {\\displaystyle f(x\\;|\\;\\mu ,\\sigma ^{2})={\\frac {1}{\\sqrt {2\\pi \\sigma ^{2}}}}\\;e^{-{\\frac {(x-\\mu )^{2}}{2\\sigma ^{2}}}}} $$"
   ]
  },
  {
   "cell_type": "code",
   "execution_count": 698,
   "metadata": {},
   "outputs": [],
   "source": [
    "df['y']=5*df['Feature1']**2+13*df['Feature2']+0.001*df['Feature3'] \\\n",
    "+2*df['Feature4']*df['Feature5']+0.1*df['Feature5']**3+0.8*df['Feature1']*df['Feature4']*df['Feature5'] \\\n",
    "+30*np.random.normal(loc=5,scale=2)"
   ]
  },
  {
   "cell_type": "code",
   "execution_count": 699,
   "metadata": {},
   "outputs": [
    {
     "data": {
      "text/html": [
       "<div>\n",
       "<style>\n",
       "    .dataframe thead tr:only-child th {\n",
       "        text-align: right;\n",
       "    }\n",
       "\n",
       "    .dataframe thead th {\n",
       "        text-align: left;\n",
       "    }\n",
       "\n",
       "    .dataframe tbody tr th {\n",
       "        vertical-align: top;\n",
       "    }\n",
       "</style>\n",
       "<table border=\"1\" class=\"dataframe\">\n",
       "  <thead>\n",
       "    <tr style=\"text-align: right;\">\n",
       "      <th></th>\n",
       "      <th>Feature1</th>\n",
       "      <th>Feature2</th>\n",
       "      <th>Feature3</th>\n",
       "      <th>Feature4</th>\n",
       "      <th>Feature5</th>\n",
       "      <th>y</th>\n",
       "    </tr>\n",
       "  </thead>\n",
       "  <tbody>\n",
       "    <tr>\n",
       "      <th>0</th>\n",
       "      <td>-15.997601</td>\n",
       "      <td>-4.933278</td>\n",
       "      <td>-5.206895</td>\n",
       "      <td>-2.417936</td>\n",
       "      <td>1.024404</td>\n",
       "      <td>1331.679988</td>\n",
       "    </tr>\n",
       "    <tr>\n",
       "      <th>1</th>\n",
       "      <td>-13.339343</td>\n",
       "      <td>-3.551986</td>\n",
       "      <td>2.776823</td>\n",
       "      <td>22.302992</td>\n",
       "      <td>0.698927</td>\n",
       "      <td>797.727079</td>\n",
       "    </tr>\n",
       "    <tr>\n",
       "      <th>2</th>\n",
       "      <td>-14.903377</td>\n",
       "      <td>4.531416</td>\n",
       "      <td>-12.613780</td>\n",
       "      <td>-10.810093</td>\n",
       "      <td>3.126361</td>\n",
       "      <td>1597.202853</td>\n",
       "    </tr>\n",
       "    <tr>\n",
       "      <th>3</th>\n",
       "      <td>-0.823381</td>\n",
       "      <td>-1.298061</td>\n",
       "      <td>9.710988</td>\n",
       "      <td>2.123858</td>\n",
       "      <td>-3.908869</td>\n",
       "      <td>58.764862</td>\n",
       "    </tr>\n",
       "    <tr>\n",
       "      <th>4</th>\n",
       "      <td>-12.360237</td>\n",
       "      <td>7.809253</td>\n",
       "      <td>2.944835</td>\n",
       "      <td>-18.778127</td>\n",
       "      <td>5.706142</td>\n",
       "      <td>1818.552406</td>\n",
       "    </tr>\n",
       "  </tbody>\n",
       "</table>\n",
       "</div>"
      ],
      "text/plain": [
       "    Feature1  Feature2   Feature3   Feature4  Feature5            y\n",
       "0 -15.997601 -4.933278  -5.206895  -2.417936  1.024404  1331.679988\n",
       "1 -13.339343 -3.551986   2.776823  22.302992  0.698927   797.727079\n",
       "2 -14.903377  4.531416 -12.613780 -10.810093  3.126361  1597.202853\n",
       "3  -0.823381 -1.298061   9.710988   2.123858 -3.908869    58.764862\n",
       "4 -12.360237  7.809253   2.944835 -18.778127  5.706142  1818.552406"
      ]
     },
     "execution_count": 699,
     "metadata": {},
     "output_type": "execute_result"
    }
   ],
   "source": [
    "df.head()"
   ]
  },
  {
   "cell_type": "markdown",
   "metadata": {},
   "source": [
    "### Plot single-variable scatterplots"
   ]
  },
  {
   "cell_type": "code",
   "execution_count": 700,
   "metadata": {
    "scrolled": false
   },
   "outputs": [
    {
     "data": {
      "image/png": "[encoded data removed]",
      "text/plain": [
       "<matplotlib.figure.Figure at 0x22a0e0b8>"
      ]
     },
     "metadata": {},
     "output_type": "display_data"
    },
    {
     "data": {
      "image/png": "[encoded data removed]",
      "text/plain": [
       "<matplotlib.figure.Figure at 0x259ea2e8>"
      ]
     },
     "metadata": {},
     "output_type": "display_data"
    },
    {
     "data": {
      "image/png": "[encoded data removed]",
      "text/plain": [
       "<matplotlib.figure.Figure at 0x25941630>"
      ]
     },
     "metadata": {},
     "output_type": "display_data"
    },
    {
     "data": {
      "image/png": "[encoded data removed]",
      "text/plain": [
       "<matplotlib.figure.Figure at 0x25913c88>"
      ]
     },
     "metadata": {},
     "output_type": "display_data"
    },
    {
     "data": {
      "image/png": "[encoded data removed]",
      "text/plain": [
       "<matplotlib.figure.Figure at 0x22822278>"
      ]
     },
     "metadata": {},
     "output_type": "display_data"
    },
    {
     "data": {
      "image/png": "[encoded data removed]",
      "text/plain": [
       "<matplotlib.figure.Figure at 0x22822fd0>"
      ]
     },
     "metadata": {},
     "output_type": "display_data"
    }
   ],
   "source": [
    "for i in df.columns:\n",
    "    df.plot.scatter(i,'y', edgecolors=(0,0,0),s=50,c='g',grid=True)"
   ]
  },
  {
   "cell_type": "markdown",
   "metadata": {},
   "source": [
    "### Standard linear regression"
   ]
  },
  {
   "cell_type": "code",
   "execution_count": 701,
   "metadata": {
    "collapsed": true
   },
   "outputs": [],
   "source": [
    "from sklearn.linear_model import LinearRegression"
   ]
  },
  {
   "cell_type": "code",
   "execution_count": 702,
   "metadata": {
    "collapsed": true
   },
   "outputs": [],
   "source": [
    "linear_model = LinearRegression(normalize=True)"
   ]
  },
  {
   "cell_type": "code",
   "execution_count": 703,
   "metadata": {
    "collapsed": true
   },
   "outputs": [],
   "source": [
    "X_linear=df.drop('y',axis=1)\n",
    "y_linear=df['y']"
   ]
  },
  {
   "cell_type": "code",
   "execution_count": 704,
   "metadata": {},
   "outputs": [
    {
     "data": {
      "text/plain": [
       "LinearRegression(copy_X=True, fit_intercept=True, n_jobs=1, normalize=True)"
      ]
     },
     "execution_count": 704,
     "metadata": {},
     "output_type": "execute_result"
    }
   ],
   "source": [
    "linear_model.fit(X_linear,y_linear)"
   ]
  },
  {
   "cell_type": "code",
   "execution_count": 705,
   "metadata": {},
   "outputs": [],
   "source": [
    "y_pred_linear = linear_model.predict(X_linear)"
   ]
  },
  {
   "cell_type": "markdown",
   "metadata": {},
   "source": [
    "### R-square of simple linear fit is very bad, coefficients have no meaning i.e. we did not 'learn' the function"
   ]
  },
  {
   "cell_type": "code",
   "execution_count": 706,
   "metadata": {
    "collapsed": true
   },
   "outputs": [],
   "source": [
    "RMSE_linear = np.sqrt(np.sum(np.square(y_pred_linear-y_linear)))"
   ]
  },
  {
   "cell_type": "code",
   "execution_count": 707,
   "metadata": {},
   "outputs": [
    {
     "name": "stdout",
     "output_type": "stream",
     "text": [
      "Root-mean-square error of linear model: 5349.06032837\n"
     ]
    }
   ],
   "source": [
    "print(\"Root-mean-square error of linear model:\",RMSE_linear)"
   ]
  },
  {
   "cell_type": "code",
   "execution_count": 708,
   "metadata": {},
   "outputs": [
    {
     "data": {
      "text/html": [
       "<div>\n",
       "<style>\n",
       "    .dataframe thead tr:only-child th {\n",
       "        text-align: right;\n",
       "    }\n",
       "\n",
       "    .dataframe thead th {\n",
       "        text-align: left;\n",
       "    }\n",
       "\n",
       "    .dataframe tbody tr th {\n",
       "        vertical-align: top;\n",
       "    }\n",
       "</style>\n",
       "<table border=\"1\" class=\"dataframe\">\n",
       "  <thead>\n",
       "    <tr style=\"text-align: right;\">\n",
       "      <th></th>\n",
       "      <th>Linear model coefficients</th>\n",
       "    </tr>\n",
       "  </thead>\n",
       "  <tbody>\n",
       "    <tr>\n",
       "      <th>Feature1</th>\n",
       "      <td>-15.244173</td>\n",
       "    </tr>\n",
       "    <tr>\n",
       "      <th>Feature2</th>\n",
       "      <td>-19.749180</td>\n",
       "    </tr>\n",
       "    <tr>\n",
       "      <th>Feature3</th>\n",
       "      <td>-43.427112</td>\n",
       "    </tr>\n",
       "    <tr>\n",
       "      <th>Feature4</th>\n",
       "      <td>-19.908951</td>\n",
       "    </tr>\n",
       "    <tr>\n",
       "      <th>Feature5</th>\n",
       "      <td>45.823419</td>\n",
       "    </tr>\n",
       "  </tbody>\n",
       "</table>\n",
       "</div>"
      ],
      "text/plain": [
       "          Linear model coefficients\n",
       "Feature1                 -15.244173\n",
       "Feature2                 -19.749180\n",
       "Feature3                 -43.427112\n",
       "Feature4                 -19.908951\n",
       "Feature5                  45.823419"
      ]
     },
     "execution_count": 708,
     "metadata": {},
     "output_type": "execute_result"
    }
   ],
   "source": [
    "coeff_linear = pd.DataFrame(linear_model.coef_,index=df.drop('y',axis=1).columns, columns=['Linear model coefficients'])\n",
    "coeff_linear"
   ]
  },
  {
   "cell_type": "code",
   "execution_count": 709,
   "metadata": {},
   "outputs": [
    {
     "name": "stdout",
     "output_type": "stream",
     "text": [
      "R2 value of linear model: 0.418398209757\n"
     ]
    }
   ],
   "source": [
    "print (\"R2 value of linear model:\",linear_model.score(X_linear,y_linear))"
   ]
  },
  {
   "cell_type": "code",
   "execution_count": 710,
   "metadata": {},
   "outputs": [
    {
     "data": {
      "text/plain": [
       "[<matplotlib.lines.Line2D at 0x217bc198>]"
      ]
     },
     "execution_count": 710,
     "metadata": {},
     "output_type": "execute_result"
    },
    {
     "data": {
      "image/png": "[encoded data removed]",
      "text/plain": [
       "<matplotlib.figure.Figure at 0x22a75198>"
      ]
     },
     "metadata": {},
     "output_type": "display_data"
    }
   ],
   "source": [
    "plt.figure(figsize=(12,8))\n",
    "plt.xlabel(\"Predicted value with linear fit\",fontsize=20)\n",
    "plt.ylabel(\"Actual y-values\",fontsize=20)\n",
    "plt.grid(1)\n",
    "plt.scatter(y_pred_linear,y_linear,edgecolors=(0,0,0),lw=2,s=80)\n",
    "plt.plot(y_pred_linear,y_pred_linear, 'k--', lw=2)"
   ]
  },
  {
   "cell_type": "markdown",
   "metadata": {},
   "source": [
    "### Create polynomial features"
   ]
  },
  {
   "cell_type": "code",
   "execution_count": 711,
   "metadata": {
    "collapsed": true
   },
   "outputs": [],
   "source": [
    "from sklearn.preprocessing import PolynomialFeatures"
   ]
  },
  {
   "cell_type": "code",
   "execution_count": 712,
   "metadata": {
    "collapsed": true
   },
   "outputs": [],
   "source": [
    "poly = PolynomialFeatures(3,include_bias=False)"
   ]
  },
  {
   "cell_type": "code",
   "execution_count": 713,
   "metadata": {},
   "outputs": [
    {
     "name": "stdout",
     "output_type": "stream",
     "text": [
      "['Feature1', 'Feature2', 'Feature3', 'Feature4', 'Feature5', 'Feature1^2', 'Feature1 Feature2', 'Feature1 Feature3', 'Feature1 Feature4', 'Feature1 Feature5', 'Feature2^2', 'Feature2 Feature3', 'Feature2 Feature4', 'Feature2 Feature5', 'Feature3^2', 'Feature3 Feature4', 'Feature3 Feature5', 'Feature4^2', 'Feature4 Feature5', 'Feature5^2', 'Feature1^3', 'Feature1^2 Feature2', 'Feature1^2 Feature3', 'Feature1^2 Feature4', 'Feature1^2 Feature5', 'Feature1 Feature2^2', 'Feature1 Feature2 Feature3', 'Feature1 Feature2 Feature4', 'Feature1 Feature2 Feature5', 'Feature1 Feature3^2', 'Feature1 Feature3 Feature4', 'Feature1 Feature3 Feature5', 'Feature1 Feature4^2', 'Feature1 Feature4 Feature5', 'Feature1 Feature5^2', 'Feature2^3', 'Feature2^2 Feature3', 'Feature2^2 Feature4', 'Feature2^2 Feature5', 'Feature2 Feature3^2', 'Feature2 Feature3 Feature4', 'Feature2 Feature3 Feature5', 'Feature2 Feature4^2', 'Feature2 Feature4 Feature5', 'Feature2 Feature5^2', 'Feature3^3', 'Feature3^2 Feature4', 'Feature3^2 Feature5', 'Feature3 Feature4^2', 'Feature3 Feature4 Feature5', 'Feature3 Feature5^2', 'Feature4^3', 'Feature4^2 Feature5', 'Feature4 Feature5^2', 'Feature5^3']\n",
      "55\n"
     ]
    }
   ],
   "source": [
    "X_poly = poly.fit_transform(X)\n",
    "X_poly_feature_name = poly.get_feature_names(['Feature'+str(l) for l in range(1,6)])\n",
    "print(X_poly_feature_name)\n",
    "print(len(X_poly_feature_name))"
   ]
  },
  {
   "cell_type": "code",
   "execution_count": 714,
   "metadata": {},
   "outputs": [
    {
     "data": {
      "text/html": [
       "<div>\n",
       "<style>\n",
       "    .dataframe thead tr:only-child th {\n",
       "        text-align: right;\n",
       "    }\n",
       "\n",
       "    .dataframe thead th {\n",
       "        text-align: left;\n",
       "    }\n",
       "\n",
       "    .dataframe tbody tr th {\n",
       "        vertical-align: top;\n",
       "    }\n",
       "</style>\n",
       "<table border=\"1\" class=\"dataframe\">\n",
       "  <thead>\n",
       "    <tr style=\"text-align: right;\">\n",
       "      <th></th>\n",
       "      <th>Feature1</th>\n",
       "      <th>Feature2</th>\n",
       "      <th>Feature3</th>\n",
       "      <th>Feature4</th>\n",
       "      <th>Feature5</th>\n",
       "      <th>Feature1^2</th>\n",
       "      <th>Feature1 Feature2</th>\n",
       "      <th>Feature1 Feature3</th>\n",
       "      <th>Feature1 Feature4</th>\n",
       "      <th>Feature1 Feature5</th>\n",
       "      <th>...</th>\n",
       "      <th>Feature3^3</th>\n",
       "      <th>Feature3^2 Feature4</th>\n",
       "      <th>Feature3^2 Feature5</th>\n",
       "      <th>Feature3 Feature4^2</th>\n",
       "      <th>Feature3 Feature4 Feature5</th>\n",
       "      <th>Feature3 Feature5^2</th>\n",
       "      <th>Feature4^3</th>\n",
       "      <th>Feature4^2 Feature5</th>\n",
       "      <th>Feature4 Feature5^2</th>\n",
       "      <th>Feature5^3</th>\n",
       "    </tr>\n",
       "  </thead>\n",
       "  <tbody>\n",
       "    <tr>\n",
       "      <th>0</th>\n",
       "      <td>-15.997601</td>\n",
       "      <td>-4.933278</td>\n",
       "      <td>-5.206895</td>\n",
       "      <td>-2.417936</td>\n",
       "      <td>1.024404</td>\n",
       "      <td>255.923235</td>\n",
       "      <td>78.920608</td>\n",
       "      <td>83.297821</td>\n",
       "      <td>38.681179</td>\n",
       "      <td>-16.387999</td>\n",
       "      <td>...</td>\n",
       "      <td>-141.168027</td>\n",
       "      <td>-65.554484</td>\n",
       "      <td>27.773374</td>\n",
       "      <td>-30.441669</td>\n",
       "      <td>12.897178</td>\n",
       "      <td>-5.464129</td>\n",
       "      <td>-14.136260</td>\n",
       "      <td>5.989089</td>\n",
       "      <td>-2.537389</td>\n",
       "      <td>1.075012</td>\n",
       "    </tr>\n",
       "    <tr>\n",
       "      <th>1</th>\n",
       "      <td>-13.339343</td>\n",
       "      <td>-3.551986</td>\n",
       "      <td>2.776823</td>\n",
       "      <td>22.302992</td>\n",
       "      <td>0.698927</td>\n",
       "      <td>177.938074</td>\n",
       "      <td>47.381163</td>\n",
       "      <td>-37.040998</td>\n",
       "      <td>-297.507257</td>\n",
       "      <td>-9.323222</td>\n",
       "      <td>...</td>\n",
       "      <td>21.411383</td>\n",
       "      <td>171.972737</td>\n",
       "      <td>5.389247</td>\n",
       "      <td>1381.256972</td>\n",
       "      <td>43.285553</td>\n",
       "      <td>1.356474</td>\n",
       "      <td>11094.030682</td>\n",
       "      <td>347.662498</td>\n",
       "      <td>10.894977</td>\n",
       "      <td>0.341425</td>\n",
       "    </tr>\n",
       "    <tr>\n",
       "      <th>2</th>\n",
       "      <td>-14.903377</td>\n",
       "      <td>4.531416</td>\n",
       "      <td>-12.613780</td>\n",
       "      <td>-10.810093</td>\n",
       "      <td>3.126361</td>\n",
       "      <td>222.110655</td>\n",
       "      <td>-67.533399</td>\n",
       "      <td>187.987929</td>\n",
       "      <td>161.106894</td>\n",
       "      <td>-46.593337</td>\n",
       "      <td>...</td>\n",
       "      <td>-2006.946516</td>\n",
       "      <td>-1719.966397</td>\n",
       "      <td>497.427335</td>\n",
       "      <td>-1474.022542</td>\n",
       "      <td>426.298506</td>\n",
       "      <td>-123.288763</td>\n",
       "      <td>-1263.247036</td>\n",
       "      <td>365.340630</td>\n",
       "      <td>-105.659283</td>\n",
       "      <td>30.557466</td>\n",
       "    </tr>\n",
       "    <tr>\n",
       "      <th>3</th>\n",
       "      <td>-0.823381</td>\n",
       "      <td>-1.298061</td>\n",
       "      <td>9.710988</td>\n",
       "      <td>2.123858</td>\n",
       "      <td>-3.908869</td>\n",
       "      <td>0.677956</td>\n",
       "      <td>1.068798</td>\n",
       "      <td>-7.995839</td>\n",
       "      <td>-1.748744</td>\n",
       "      <td>3.218487</td>\n",
       "      <td>...</td>\n",
       "      <td>915.778221</td>\n",
       "      <td>200.286858</td>\n",
       "      <td>-368.619252</td>\n",
       "      <td>43.804083</td>\n",
       "      <td>-80.619510</td>\n",
       "      <td>148.376703</td>\n",
       "      <td>9.580248</td>\n",
       "      <td>-17.632029</td>\n",
       "      <td>32.450983</td>\n",
       "      <td>-59.724623</td>\n",
       "    </tr>\n",
       "    <tr>\n",
       "      <th>4</th>\n",
       "      <td>-12.360237</td>\n",
       "      <td>7.809253</td>\n",
       "      <td>2.944835</td>\n",
       "      <td>-18.778127</td>\n",
       "      <td>5.706142</td>\n",
       "      <td>152.775468</td>\n",
       "      <td>-96.524222</td>\n",
       "      <td>-36.398865</td>\n",
       "      <td>232.102102</td>\n",
       "      <td>-70.529267</td>\n",
       "      <td>...</td>\n",
       "      <td>25.537777</td>\n",
       "      <td>-162.844958</td>\n",
       "      <td>49.483979</td>\n",
       "      <td>1038.402090</td>\n",
       "      <td>-315.541037</td>\n",
       "      <td>95.884000</td>\n",
       "      <td>-6621.506188</td>\n",
       "      <td>2012.088528</td>\n",
       "      <td>-611.416818</td>\n",
       "      <td>185.792285</td>\n",
       "    </tr>\n",
       "  </tbody>\n",
       "</table>\n",
       "<p>5 rows × 55 columns</p>\n",
       "</div>"
      ],
      "text/plain": [
       "    Feature1  Feature2   Feature3   Feature4  Feature5  Feature1^2  \\\n",
       "0 -15.997601 -4.933278  -5.206895  -2.417936  1.024404  255.923235   \n",
       "1 -13.339343 -3.551986   2.776823  22.302992  0.698927  177.938074   \n",
       "2 -14.903377  4.531416 -12.613780 -10.810093  3.126361  222.110655   \n",
       "3  -0.823381 -1.298061   9.710988   2.123858 -3.908869    0.677956   \n",
       "4 -12.360237  7.809253   2.944835 -18.778127  5.706142  152.775468   \n",
       "\n",
       "   Feature1 Feature2  Feature1 Feature3  Feature1 Feature4  Feature1 Feature5  \\\n",
       "0          78.920608          83.297821          38.681179         -16.387999   \n",
       "1          47.381163         -37.040998        -297.507257          -9.323222   \n",
       "2         -67.533399         187.987929         161.106894         -46.593337   \n",
       "3           1.068798          -7.995839          -1.748744           3.218487   \n",
       "4         -96.524222         -36.398865         232.102102         -70.529267   \n",
       "\n",
       "      ...       Feature3^3  Feature3^2 Feature4  Feature3^2 Feature5  \\\n",
       "0     ...      -141.168027           -65.554484            27.773374   \n",
       "1     ...        21.411383           171.972737             5.389247   \n",
       "2     ...     -2006.946516         -1719.966397           497.427335   \n",
       "3     ...       915.778221           200.286858          -368.619252   \n",
       "4     ...        25.537777          -162.844958            49.483979   \n",
       "\n",
       "   Feature3 Feature4^2  Feature3 Feature4 Feature5  Feature3 Feature5^2  \\\n",
       "0           -30.441669                   12.897178            -5.464129   \n",
       "1          1381.256972                   43.285553             1.356474   \n",
       "2         -1474.022542                  426.298506          -123.288763   \n",
       "3            43.804083                  -80.619510           148.376703   \n",
       "4          1038.402090                 -315.541037            95.884000   \n",
       "\n",
       "     Feature4^3  Feature4^2 Feature5  Feature4 Feature5^2  Feature5^3  \n",
       "0    -14.136260             5.989089            -2.537389    1.075012  \n",
       "1  11094.030682           347.662498            10.894977    0.341425  \n",
       "2  -1263.247036           365.340630          -105.659283   30.557466  \n",
       "3      9.580248           -17.632029            32.450983  -59.724623  \n",
       "4  -6621.506188          2012.088528          -611.416818  185.792285  \n",
       "\n",
       "[5 rows x 55 columns]"
      ]
     },
     "execution_count": 714,
     "metadata": {},
     "output_type": "execute_result"
    }
   ],
   "source": [
    "df_poly = pd.DataFrame(X_poly, columns=X_poly_feature_name)\n",
    "df_poly.head()"
   ]
  },
  {
   "cell_type": "code",
   "execution_count": 715,
   "metadata": {},
   "outputs": [
    {
     "data": {
      "text/html": [
       "<div>\n",
       "<style>\n",
       "    .dataframe thead tr:only-child th {\n",
       "        text-align: right;\n",
       "    }\n",
       "\n",
       "    .dataframe thead th {\n",
       "        text-align: left;\n",
       "    }\n",
       "\n",
       "    .dataframe tbody tr th {\n",
       "        vertical-align: top;\n",
       "    }\n",
       "</style>\n",
       "<table border=\"1\" class=\"dataframe\">\n",
       "  <thead>\n",
       "    <tr style=\"text-align: right;\">\n",
       "      <th></th>\n",
       "      <th>Feature1</th>\n",
       "      <th>Feature2</th>\n",
       "      <th>Feature3</th>\n",
       "      <th>Feature4</th>\n",
       "      <th>Feature5</th>\n",
       "      <th>Feature1^2</th>\n",
       "      <th>Feature1 Feature2</th>\n",
       "      <th>Feature1 Feature3</th>\n",
       "      <th>Feature1 Feature4</th>\n",
       "      <th>Feature1 Feature5</th>\n",
       "      <th>...</th>\n",
       "      <th>Feature3^2 Feature4</th>\n",
       "      <th>Feature3^2 Feature5</th>\n",
       "      <th>Feature3 Feature4^2</th>\n",
       "      <th>Feature3 Feature4 Feature5</th>\n",
       "      <th>Feature3 Feature5^2</th>\n",
       "      <th>Feature4^3</th>\n",
       "      <th>Feature4^2 Feature5</th>\n",
       "      <th>Feature4 Feature5^2</th>\n",
       "      <th>Feature5^3</th>\n",
       "      <th>y</th>\n",
       "    </tr>\n",
       "  </thead>\n",
       "  <tbody>\n",
       "    <tr>\n",
       "      <th>0</th>\n",
       "      <td>-15.997601</td>\n",
       "      <td>-4.933278</td>\n",
       "      <td>-5.206895</td>\n",
       "      <td>-2.417936</td>\n",
       "      <td>1.024404</td>\n",
       "      <td>255.923235</td>\n",
       "      <td>78.920608</td>\n",
       "      <td>83.297821</td>\n",
       "      <td>38.681179</td>\n",
       "      <td>-16.387999</td>\n",
       "      <td>...</td>\n",
       "      <td>-65.554484</td>\n",
       "      <td>27.773374</td>\n",
       "      <td>-30.441669</td>\n",
       "      <td>12.897178</td>\n",
       "      <td>-5.464129</td>\n",
       "      <td>-14.136260</td>\n",
       "      <td>5.989089</td>\n",
       "      <td>-2.537389</td>\n",
       "      <td>1.075012</td>\n",
       "      <td>1331.679988</td>\n",
       "    </tr>\n",
       "    <tr>\n",
       "      <th>1</th>\n",
       "      <td>-13.339343</td>\n",
       "      <td>-3.551986</td>\n",
       "      <td>2.776823</td>\n",
       "      <td>22.302992</td>\n",
       "      <td>0.698927</td>\n",
       "      <td>177.938074</td>\n",
       "      <td>47.381163</td>\n",
       "      <td>-37.040998</td>\n",
       "      <td>-297.507257</td>\n",
       "      <td>-9.323222</td>\n",
       "      <td>...</td>\n",
       "      <td>171.972737</td>\n",
       "      <td>5.389247</td>\n",
       "      <td>1381.256972</td>\n",
       "      <td>43.285553</td>\n",
       "      <td>1.356474</td>\n",
       "      <td>11094.030682</td>\n",
       "      <td>347.662498</td>\n",
       "      <td>10.894977</td>\n",
       "      <td>0.341425</td>\n",
       "      <td>797.727079</td>\n",
       "    </tr>\n",
       "    <tr>\n",
       "      <th>2</th>\n",
       "      <td>-14.903377</td>\n",
       "      <td>4.531416</td>\n",
       "      <td>-12.613780</td>\n",
       "      <td>-10.810093</td>\n",
       "      <td>3.126361</td>\n",
       "      <td>222.110655</td>\n",
       "      <td>-67.533399</td>\n",
       "      <td>187.987929</td>\n",
       "      <td>161.106894</td>\n",
       "      <td>-46.593337</td>\n",
       "      <td>...</td>\n",
       "      <td>-1719.966397</td>\n",
       "      <td>497.427335</td>\n",
       "      <td>-1474.022542</td>\n",
       "      <td>426.298506</td>\n",
       "      <td>-123.288763</td>\n",
       "      <td>-1263.247036</td>\n",
       "      <td>365.340630</td>\n",
       "      <td>-105.659283</td>\n",
       "      <td>30.557466</td>\n",
       "      <td>1597.202853</td>\n",
       "    </tr>\n",
       "    <tr>\n",
       "      <th>3</th>\n",
       "      <td>-0.823381</td>\n",
       "      <td>-1.298061</td>\n",
       "      <td>9.710988</td>\n",
       "      <td>2.123858</td>\n",
       "      <td>-3.908869</td>\n",
       "      <td>0.677956</td>\n",
       "      <td>1.068798</td>\n",
       "      <td>-7.995839</td>\n",
       "      <td>-1.748744</td>\n",
       "      <td>3.218487</td>\n",
       "      <td>...</td>\n",
       "      <td>200.286858</td>\n",
       "      <td>-368.619252</td>\n",
       "      <td>43.804083</td>\n",
       "      <td>-80.619510</td>\n",
       "      <td>148.376703</td>\n",
       "      <td>9.580248</td>\n",
       "      <td>-17.632029</td>\n",
       "      <td>32.450983</td>\n",
       "      <td>-59.724623</td>\n",
       "      <td>58.764862</td>\n",
       "    </tr>\n",
       "    <tr>\n",
       "      <th>4</th>\n",
       "      <td>-12.360237</td>\n",
       "      <td>7.809253</td>\n",
       "      <td>2.944835</td>\n",
       "      <td>-18.778127</td>\n",
       "      <td>5.706142</td>\n",
       "      <td>152.775468</td>\n",
       "      <td>-96.524222</td>\n",
       "      <td>-36.398865</td>\n",
       "      <td>232.102102</td>\n",
       "      <td>-70.529267</td>\n",
       "      <td>...</td>\n",
       "      <td>-162.844958</td>\n",
       "      <td>49.483979</td>\n",
       "      <td>1038.402090</td>\n",
       "      <td>-315.541037</td>\n",
       "      <td>95.884000</td>\n",
       "      <td>-6621.506188</td>\n",
       "      <td>2012.088528</td>\n",
       "      <td>-611.416818</td>\n",
       "      <td>185.792285</td>\n",
       "      <td>1818.552406</td>\n",
       "    </tr>\n",
       "  </tbody>\n",
       "</table>\n",
       "<p>5 rows × 56 columns</p>\n",
       "</div>"
      ],
      "text/plain": [
       "    Feature1  Feature2   Feature3   Feature4  Feature5  Feature1^2  \\\n",
       "0 -15.997601 -4.933278  -5.206895  -2.417936  1.024404  255.923235   \n",
       "1 -13.339343 -3.551986   2.776823  22.302992  0.698927  177.938074   \n",
       "2 -14.903377  4.531416 -12.613780 -10.810093  3.126361  222.110655   \n",
       "3  -0.823381 -1.298061   9.710988   2.123858 -3.908869    0.677956   \n",
       "4 -12.360237  7.809253   2.944835 -18.778127  5.706142  152.775468   \n",
       "\n",
       "   Feature1 Feature2  Feature1 Feature3  Feature1 Feature4  Feature1 Feature5  \\\n",
       "0          78.920608          83.297821          38.681179         -16.387999   \n",
       "1          47.381163         -37.040998        -297.507257          -9.323222   \n",
       "2         -67.533399         187.987929         161.106894         -46.593337   \n",
       "3           1.068798          -7.995839          -1.748744           3.218487   \n",
       "4         -96.524222         -36.398865         232.102102         -70.529267   \n",
       "\n",
       "      ...       Feature3^2 Feature4  Feature3^2 Feature5  Feature3 Feature4^2  \\\n",
       "0     ...                -65.554484            27.773374           -30.441669   \n",
       "1     ...                171.972737             5.389247          1381.256972   \n",
       "2     ...              -1719.966397           497.427335         -1474.022542   \n",
       "3     ...                200.286858          -368.619252            43.804083   \n",
       "4     ...               -162.844958            49.483979          1038.402090   \n",
       "\n",
       "   Feature3 Feature4 Feature5  Feature3 Feature5^2    Feature4^3  \\\n",
       "0                   12.897178            -5.464129    -14.136260   \n",
       "1                   43.285553             1.356474  11094.030682   \n",
       "2                  426.298506          -123.288763  -1263.247036   \n",
       "3                  -80.619510           148.376703      9.580248   \n",
       "4                 -315.541037            95.884000  -6621.506188   \n",
       "\n",
       "   Feature4^2 Feature5  Feature4 Feature5^2  Feature5^3            y  \n",
       "0             5.989089            -2.537389    1.075012  1331.679988  \n",
       "1           347.662498            10.894977    0.341425   797.727079  \n",
       "2           365.340630          -105.659283   30.557466  1597.202853  \n",
       "3           -17.632029            32.450983  -59.724623    58.764862  \n",
       "4          2012.088528          -611.416818  185.792285  1818.552406  \n",
       "\n",
       "[5 rows x 56 columns]"
      ]
     },
     "execution_count": 715,
     "metadata": {},
     "output_type": "execute_result"
    }
   ],
   "source": [
    "df_poly['y']=df['y']\n",
    "df_poly.head()"
   ]
  },
  {
   "cell_type": "code",
   "execution_count": 716,
   "metadata": {
    "collapsed": true
   },
   "outputs": [],
   "source": [
    "X_train=df_poly.drop('y',axis=1)\n",
    "y_train=df_poly['y']"
   ]
  },
  {
   "cell_type": "markdown",
   "metadata": {},
   "source": [
    "### Polynomial model without regularization and cross-validation"
   ]
  },
  {
   "cell_type": "code",
   "execution_count": 717,
   "metadata": {
    "collapsed": true
   },
   "outputs": [],
   "source": [
    "poly = LinearRegression(normalize=True)"
   ]
  },
  {
   "cell_type": "code",
   "execution_count": 718,
   "metadata": {},
   "outputs": [
    {
     "name": "stdout",
     "output_type": "stream",
     "text": [
      "Root-mean-square error of simple polynomial model: 8.2683089397e-12\n"
     ]
    }
   ],
   "source": [
    "model_poly=poly.fit(X_train,y_train)\n",
    "y_poly = poly.predict(X_train)\n",
    "RMSE_poly=np.sqrt(np.sum(np.square(y_poly-y_train)))\n",
    "print(\"Root-mean-square error of simple polynomial model:\",RMSE_poly)"
   ]
  },
  {
   "cell_type": "code",
   "execution_count": 719,
   "metadata": {},
   "outputs": [
    {
     "data": {
      "text/html": [
       "<div>\n",
       "<style>\n",
       "    .dataframe thead tr:only-child th {\n",
       "        text-align: right;\n",
       "    }\n",
       "\n",
       "    .dataframe thead th {\n",
       "        text-align: left;\n",
       "    }\n",
       "\n",
       "    .dataframe tbody tr th {\n",
       "        vertical-align: top;\n",
       "    }\n",
       "</style>\n",
       "<table border=\"1\" class=\"dataframe\">\n",
       "  <thead>\n",
       "    <tr style=\"text-align: right;\">\n",
       "      <th></th>\n",
       "      <th>Coefficients polynomial model</th>\n",
       "    </tr>\n",
       "  </thead>\n",
       "  <tbody>\n",
       "    <tr>\n",
       "      <th>Feature1</th>\n",
       "      <td>-6.624777</td>\n",
       "    </tr>\n",
       "    <tr>\n",
       "      <th>Feature2</th>\n",
       "      <td>12.686454</td>\n",
       "    </tr>\n",
       "    <tr>\n",
       "      <th>Feature3</th>\n",
       "      <td>3.230111</td>\n",
       "    </tr>\n",
       "    <tr>\n",
       "      <th>Feature4</th>\n",
       "      <td>0.576794</td>\n",
       "    </tr>\n",
       "    <tr>\n",
       "      <th>Feature5</th>\n",
       "      <td>4.050511</td>\n",
       "    </tr>\n",
       "    <tr>\n",
       "      <th>Feature1^2</th>\n",
       "      <td>5.124386</td>\n",
       "    </tr>\n",
       "    <tr>\n",
       "      <th>Feature1 Feature2</th>\n",
       "      <td>-0.165458</td>\n",
       "    </tr>\n",
       "    <tr>\n",
       "      <th>Feature1 Feature3</th>\n",
       "      <td>0.230375</td>\n",
       "    </tr>\n",
       "    <tr>\n",
       "      <th>Feature1 Feature4</th>\n",
       "      <td>0.547155</td>\n",
       "    </tr>\n",
       "    <tr>\n",
       "      <th>Feature1 Feature5</th>\n",
       "      <td>1.803322</td>\n",
       "    </tr>\n",
       "    <tr>\n",
       "      <th>Feature2^2</th>\n",
       "      <td>0.045664</td>\n",
       "    </tr>\n",
       "    <tr>\n",
       "      <th>Feature2 Feature3</th>\n",
       "      <td>-0.050419</td>\n",
       "    </tr>\n",
       "    <tr>\n",
       "      <th>Feature2 Feature4</th>\n",
       "      <td>0.018151</td>\n",
       "    </tr>\n",
       "    <tr>\n",
       "      <th>Feature2 Feature5</th>\n",
       "      <td>-0.810508</td>\n",
       "    </tr>\n",
       "    <tr>\n",
       "      <th>Feature3^2</th>\n",
       "      <td>-0.077230</td>\n",
       "    </tr>\n",
       "    <tr>\n",
       "      <th>Feature3 Feature4</th>\n",
       "      <td>-0.150372</td>\n",
       "    </tr>\n",
       "    <tr>\n",
       "      <th>Feature3 Feature5</th>\n",
       "      <td>-0.572632</td>\n",
       "    </tr>\n",
       "    <tr>\n",
       "      <th>Feature4^2</th>\n",
       "      <td>0.255054</td>\n",
       "    </tr>\n",
       "    <tr>\n",
       "      <th>Feature4 Feature5</th>\n",
       "      <td>1.000188</td>\n",
       "    </tr>\n",
       "    <tr>\n",
       "      <th>Feature5^2</th>\n",
       "      <td>-0.446918</td>\n",
       "    </tr>\n",
       "    <tr>\n",
       "      <th>Feature1^3</th>\n",
       "      <td>0.020099</td>\n",
       "    </tr>\n",
       "    <tr>\n",
       "      <th>Feature1^2 Feature2</th>\n",
       "      <td>0.034313</td>\n",
       "    </tr>\n",
       "    <tr>\n",
       "      <th>Feature1^2 Feature3</th>\n",
       "      <td>-0.009691</td>\n",
       "    </tr>\n",
       "    <tr>\n",
       "      <th>Feature1^2 Feature4</th>\n",
       "      <td>0.042391</td>\n",
       "    </tr>\n",
       "    <tr>\n",
       "      <th>Feature1^2 Feature5</th>\n",
       "      <td>0.034465</td>\n",
       "    </tr>\n",
       "    <tr>\n",
       "      <th>Feature1 Feature2^2</th>\n",
       "      <td>0.004973</td>\n",
       "    </tr>\n",
       "    <tr>\n",
       "      <th>Feature1 Feature2 Feature3</th>\n",
       "      <td>-0.059333</td>\n",
       "    </tr>\n",
       "    <tr>\n",
       "      <th>Feature1 Feature2 Feature4</th>\n",
       "      <td>-0.028065</td>\n",
       "    </tr>\n",
       "    <tr>\n",
       "      <th>Feature1 Feature2 Feature5</th>\n",
       "      <td>0.009940</td>\n",
       "    </tr>\n",
       "    <tr>\n",
       "      <th>Feature1 Feature3^2</th>\n",
       "      <td>-0.050422</td>\n",
       "    </tr>\n",
       "    <tr>\n",
       "      <th>Feature1 Feature3 Feature4</th>\n",
       "      <td>-0.054479</td>\n",
       "    </tr>\n",
       "    <tr>\n",
       "      <th>Feature1 Feature3 Feature5</th>\n",
       "      <td>-0.241140</td>\n",
       "    </tr>\n",
       "    <tr>\n",
       "      <th>Feature1 Feature4^2</th>\n",
       "      <td>-0.009306</td>\n",
       "    </tr>\n",
       "    <tr>\n",
       "      <th>Feature1 Feature4 Feature5</th>\n",
       "      <td>0.546697</td>\n",
       "    </tr>\n",
       "    <tr>\n",
       "      <th>Feature1 Feature5^2</th>\n",
       "      <td>0.025896</td>\n",
       "    </tr>\n",
       "    <tr>\n",
       "      <th>Feature2^3</th>\n",
       "      <td>-0.009034</td>\n",
       "    </tr>\n",
       "    <tr>\n",
       "      <th>Feature2^2 Feature3</th>\n",
       "      <td>0.040937</td>\n",
       "    </tr>\n",
       "    <tr>\n",
       "      <th>Feature2^2 Feature4</th>\n",
       "      <td>0.009393</td>\n",
       "    </tr>\n",
       "    <tr>\n",
       "      <th>Feature2^2 Feature5</th>\n",
       "      <td>0.041218</td>\n",
       "    </tr>\n",
       "    <tr>\n",
       "      <th>Feature2 Feature3^2</th>\n",
       "      <td>0.006373</td>\n",
       "    </tr>\n",
       "    <tr>\n",
       "      <th>Feature2 Feature3 Feature4</th>\n",
       "      <td>-0.025629</td>\n",
       "    </tr>\n",
       "    <tr>\n",
       "      <th>Feature2 Feature3 Feature5</th>\n",
       "      <td>-0.022266</td>\n",
       "    </tr>\n",
       "    <tr>\n",
       "      <th>Feature2 Feature4^2</th>\n",
       "      <td>-0.003537</td>\n",
       "    </tr>\n",
       "    <tr>\n",
       "      <th>Feature2 Feature4 Feature5</th>\n",
       "      <td>0.101260</td>\n",
       "    </tr>\n",
       "    <tr>\n",
       "      <th>Feature2 Feature5^2</th>\n",
       "      <td>-0.068288</td>\n",
       "    </tr>\n",
       "    <tr>\n",
       "      <th>Feature3^3</th>\n",
       "      <td>0.008611</td>\n",
       "    </tr>\n",
       "    <tr>\n",
       "      <th>Feature3^2 Feature4</th>\n",
       "      <td>0.020289</td>\n",
       "    </tr>\n",
       "    <tr>\n",
       "      <th>Feature3^2 Feature5</th>\n",
       "      <td>0.013056</td>\n",
       "    </tr>\n",
       "    <tr>\n",
       "      <th>Feature3 Feature4^2</th>\n",
       "      <td>-0.028154</td>\n",
       "    </tr>\n",
       "    <tr>\n",
       "      <th>Feature3 Feature4 Feature5</th>\n",
       "      <td>0.001051</td>\n",
       "    </tr>\n",
       "    <tr>\n",
       "      <th>Feature3 Feature5^2</th>\n",
       "      <td>-0.058708</td>\n",
       "    </tr>\n",
       "    <tr>\n",
       "      <th>Feature4^3</th>\n",
       "      <td>-0.021901</td>\n",
       "    </tr>\n",
       "    <tr>\n",
       "      <th>Feature4^2 Feature5</th>\n",
       "      <td>0.068620</td>\n",
       "    </tr>\n",
       "    <tr>\n",
       "      <th>Feature4 Feature5^2</th>\n",
       "      <td>-0.071773</td>\n",
       "    </tr>\n",
       "    <tr>\n",
       "      <th>Feature5^3</th>\n",
       "      <td>0.039234</td>\n",
       "    </tr>\n",
       "  </tbody>\n",
       "</table>\n",
       "</div>"
      ],
      "text/plain": [
       "                            Coefficients polynomial model\n",
       "Feature1                                        -6.624777\n",
       "Feature2                                        12.686454\n",
       "Feature3                                         3.230111\n",
       "Feature4                                         0.576794\n",
       "Feature5                                         4.050511\n",
       "Feature1^2                                       5.124386\n",
       "Feature1 Feature2                               -0.165458\n",
       "Feature1 Feature3                                0.230375\n",
       "Feature1 Feature4                                0.547155\n",
       "Feature1 Feature5                                1.803322\n",
       "Feature2^2                                       0.045664\n",
       "Feature2 Feature3                               -0.050419\n",
       "Feature2 Feature4                                0.018151\n",
       "Feature2 Feature5                               -0.810508\n",
       "Feature3^2                                      -0.077230\n",
       "Feature3 Feature4                               -0.150372\n",
       "Feature3 Feature5                               -0.572632\n",
       "Feature4^2                                       0.255054\n",
       "Feature4 Feature5                                1.000188\n",
       "Feature5^2                                      -0.446918\n",
       "Feature1^3                                       0.020099\n",
       "Feature1^2 Feature2                              0.034313\n",
       "Feature1^2 Feature3                             -0.009691\n",
       "Feature1^2 Feature4                              0.042391\n",
       "Feature1^2 Feature5                              0.034465\n",
       "Feature1 Feature2^2                              0.004973\n",
       "Feature1 Feature2 Feature3                      -0.059333\n",
       "Feature1 Feature2 Feature4                      -0.028065\n",
       "Feature1 Feature2 Feature5                       0.009940\n",
       "Feature1 Feature3^2                             -0.050422\n",
       "Feature1 Feature3 Feature4                      -0.054479\n",
       "Feature1 Feature3 Feature5                      -0.241140\n",
       "Feature1 Feature4^2                             -0.009306\n",
       "Feature1 Feature4 Feature5                       0.546697\n",
       "Feature1 Feature5^2                              0.025896\n",
       "Feature2^3                                      -0.009034\n",
       "Feature2^2 Feature3                              0.040937\n",
       "Feature2^2 Feature4                              0.009393\n",
       "Feature2^2 Feature5                              0.041218\n",
       "Feature2 Feature3^2                              0.006373\n",
       "Feature2 Feature3 Feature4                      -0.025629\n",
       "Feature2 Feature3 Feature5                      -0.022266\n",
       "Feature2 Feature4^2                             -0.003537\n",
       "Feature2 Feature4 Feature5                       0.101260\n",
       "Feature2 Feature5^2                             -0.068288\n",
       "Feature3^3                                       0.008611\n",
       "Feature3^2 Feature4                              0.020289\n",
       "Feature3^2 Feature5                              0.013056\n",
       "Feature3 Feature4^2                             -0.028154\n",
       "Feature3 Feature4 Feature5                       0.001051\n",
       "Feature3 Feature5^2                             -0.058708\n",
       "Feature4^3                                      -0.021901\n",
       "Feature4^2 Feature5                              0.068620\n",
       "Feature4 Feature5^2                             -0.071773\n",
       "Feature5^3                                       0.039234"
      ]
     },
     "execution_count": 719,
     "metadata": {},
     "output_type": "execute_result"
    }
   ],
   "source": [
    "coeff_poly = pd.DataFrame(model_poly.coef_,index=df_poly.drop('y',axis=1).columns, \n",
    "                          columns=['Coefficients polynomial model'])\n",
    "coeff_poly"
   ]
  },
  {
   "cell_type": "markdown",
   "metadata": {},
   "source": [
    "#### R-square value of the simple polynomial model is perfect but the model is flawed as shown above i.e. it learned wrong coefficients and overfitted the to the data"
   ]
  },
  {
   "cell_type": "code",
   "execution_count": 720,
   "metadata": {},
   "outputs": [
    {
     "name": "stdout",
     "output_type": "stream",
     "text": [
      "R2 value of simple polynomial model: 1.0\n"
     ]
    }
   ],
   "source": [
    "print (\"R2 value of simple polynomial model:\",model_poly.score(X_train,y_train))"
   ]
  },
  {
   "cell_type": "markdown",
   "metadata": {},
   "source": [
    "### Metamodel (Optislang style :) - polynomial model with cross-validation and LASSO regularization\n",
    "** This is an advanced machine learning method which prevents over-fitting by penalizing high-valued coefficients i.e. keep them bounded **"
   ]
  },
  {
   "cell_type": "code",
   "execution_count": 721,
   "metadata": {
    "collapsed": true
   },
   "outputs": [],
   "source": [
    "from sklearn.linear_model import LassoCV"
   ]
  },
  {
   "cell_type": "code",
   "execution_count": 722,
   "metadata": {},
   "outputs": [],
   "source": [
    "model1 = LassoCV(cv=10,verbose=1,normalize=True,eps=0.001,n_alphas=100, tol=0.0001)"
   ]
  },
  {
   "cell_type": "code",
   "execution_count": 723,
   "metadata": {},
   "outputs": [
    {
     "name": "stderr",
     "output_type": "stream",
     "text": [
      "........................................................................................................................................................................................................................................................................................................................................................................................................................................................................................................................................................................................................................................................................................................................................................................................................................................................................................................................................................................................................................................[Parallel(n_jobs=1)]: Done  10 out of  10 | elapsed:    0.2s finished\n"
     ]
    },
    {
     "data": {
      "text/plain": [
       "LassoCV(alphas=None, copy_X=True, cv=10, eps=0.001, fit_intercept=True,\n",
       "    max_iter=1000, n_alphas=100, n_jobs=1, normalize=True, positive=False,\n",
       "    precompute='auto', random_state=None, selection='cyclic', tol=0.0001,\n",
       "    verbose=1)"
      ]
     },
     "execution_count": 723,
     "metadata": {},
     "output_type": "execute_result"
    }
   ],
   "source": [
    "model1.fit(X_train,y_train)"
   ]
  },
  {
   "cell_type": "code",
   "execution_count": 724,
   "metadata": {
    "collapsed": true
   },
   "outputs": [],
   "source": [
    "y_pred1 = np.array(model1.predict(X_train))"
   ]
  },
  {
   "cell_type": "code",
   "execution_count": 725,
   "metadata": {},
   "outputs": [
    {
     "name": "stdout",
     "output_type": "stream",
     "text": [
      "Root-mean-square error of Metamodel: 15.0060088036\n"
     ]
    }
   ],
   "source": [
    "RMSE_1=np.sqrt(np.sum(np.square(y_pred1-y_train)))\n",
    "print(\"Root-mean-square error of Metamodel:\",RMSE_1)"
   ]
  },
  {
   "cell_type": "code",
   "execution_count": 726,
   "metadata": {},
   "outputs": [
    {
     "data": {
      "text/html": [
       "<div>\n",
       "<style>\n",
       "    .dataframe thead tr:only-child th {\n",
       "        text-align: right;\n",
       "    }\n",
       "\n",
       "    .dataframe thead th {\n",
       "        text-align: left;\n",
       "    }\n",
       "\n",
       "    .dataframe tbody tr th {\n",
       "        vertical-align: top;\n",
       "    }\n",
       "</style>\n",
       "<table border=\"1\" class=\"dataframe\">\n",
       "  <thead>\n",
       "    <tr style=\"text-align: right;\">\n",
       "      <th></th>\n",
       "      <th>Coefficients Metamodel</th>\n",
       "    </tr>\n",
       "  </thead>\n",
       "  <tbody>\n",
       "    <tr>\n",
       "      <th>Feature1</th>\n",
       "      <td>-0.000000</td>\n",
       "    </tr>\n",
       "    <tr>\n",
       "      <th>Feature2</th>\n",
       "      <td>12.763041</td>\n",
       "    </tr>\n",
       "    <tr>\n",
       "      <th>Feature3</th>\n",
       "      <td>-0.000000</td>\n",
       "    </tr>\n",
       "    <tr>\n",
       "      <th>Feature4</th>\n",
       "      <td>-0.000000</td>\n",
       "    </tr>\n",
       "    <tr>\n",
       "      <th>Feature5</th>\n",
       "      <td>0.078203</td>\n",
       "    </tr>\n",
       "    <tr>\n",
       "      <th>Feature1^2</th>\n",
       "      <td>4.988110</td>\n",
       "    </tr>\n",
       "    <tr>\n",
       "      <th>Feature1 Feature2</th>\n",
       "      <td>-0.000000</td>\n",
       "    </tr>\n",
       "    <tr>\n",
       "      <th>Feature1 Feature3</th>\n",
       "      <td>-0.000000</td>\n",
       "    </tr>\n",
       "    <tr>\n",
       "      <th>Feature1 Feature4</th>\n",
       "      <td>0.000000</td>\n",
       "    </tr>\n",
       "    <tr>\n",
       "      <th>Feature1 Feature5</th>\n",
       "      <td>0.003252</td>\n",
       "    </tr>\n",
       "    <tr>\n",
       "      <th>Feature2^2</th>\n",
       "      <td>0.000000</td>\n",
       "    </tr>\n",
       "    <tr>\n",
       "      <th>Feature2 Feature3</th>\n",
       "      <td>-0.000000</td>\n",
       "    </tr>\n",
       "    <tr>\n",
       "      <th>Feature2 Feature4</th>\n",
       "      <td>-0.000000</td>\n",
       "    </tr>\n",
       "    <tr>\n",
       "      <th>Feature2 Feature5</th>\n",
       "      <td>0.000000</td>\n",
       "    </tr>\n",
       "    <tr>\n",
       "      <th>Feature3^2</th>\n",
       "      <td>-0.000000</td>\n",
       "    </tr>\n",
       "    <tr>\n",
       "      <th>Feature3 Feature4</th>\n",
       "      <td>-0.000000</td>\n",
       "    </tr>\n",
       "    <tr>\n",
       "      <th>Feature3 Feature5</th>\n",
       "      <td>0.000000</td>\n",
       "    </tr>\n",
       "    <tr>\n",
       "      <th>Feature4^2</th>\n",
       "      <td>-0.000000</td>\n",
       "    </tr>\n",
       "    <tr>\n",
       "      <th>Feature4 Feature5</th>\n",
       "      <td>1.983644</td>\n",
       "    </tr>\n",
       "    <tr>\n",
       "      <th>Feature5^2</th>\n",
       "      <td>-0.000000</td>\n",
       "    </tr>\n",
       "    <tr>\n",
       "      <th>Feature1^3</th>\n",
       "      <td>-0.000000</td>\n",
       "    </tr>\n",
       "    <tr>\n",
       "      <th>Feature1^2 Feature2</th>\n",
       "      <td>0.000000</td>\n",
       "    </tr>\n",
       "    <tr>\n",
       "      <th>Feature1^2 Feature3</th>\n",
       "      <td>-0.000369</td>\n",
       "    </tr>\n",
       "    <tr>\n",
       "      <th>Feature1^2 Feature4</th>\n",
       "      <td>-0.000000</td>\n",
       "    </tr>\n",
       "    <tr>\n",
       "      <th>Feature1^2 Feature5</th>\n",
       "      <td>0.000000</td>\n",
       "    </tr>\n",
       "    <tr>\n",
       "      <th>Feature1 Feature2^2</th>\n",
       "      <td>0.000000</td>\n",
       "    </tr>\n",
       "    <tr>\n",
       "      <th>Feature1 Feature2 Feature3</th>\n",
       "      <td>-0.000000</td>\n",
       "    </tr>\n",
       "    <tr>\n",
       "      <th>Feature1 Feature2 Feature4</th>\n",
       "      <td>-0.000000</td>\n",
       "    </tr>\n",
       "    <tr>\n",
       "      <th>Feature1 Feature2 Feature5</th>\n",
       "      <td>0.000000</td>\n",
       "    </tr>\n",
       "    <tr>\n",
       "      <th>Feature1 Feature3^2</th>\n",
       "      <td>-0.000000</td>\n",
       "    </tr>\n",
       "    <tr>\n",
       "      <th>Feature1 Feature3 Feature4</th>\n",
       "      <td>-0.000000</td>\n",
       "    </tr>\n",
       "    <tr>\n",
       "      <th>Feature1 Feature3 Feature5</th>\n",
       "      <td>0.000000</td>\n",
       "    </tr>\n",
       "    <tr>\n",
       "      <th>Feature1 Feature4^2</th>\n",
       "      <td>-0.000000</td>\n",
       "    </tr>\n",
       "    <tr>\n",
       "      <th>Feature1 Feature4 Feature5</th>\n",
       "      <td>0.798465</td>\n",
       "    </tr>\n",
       "    <tr>\n",
       "      <th>Feature1 Feature5^2</th>\n",
       "      <td>-0.000000</td>\n",
       "    </tr>\n",
       "    <tr>\n",
       "      <th>Feature2^3</th>\n",
       "      <td>0.000000</td>\n",
       "    </tr>\n",
       "    <tr>\n",
       "      <th>Feature2^2 Feature3</th>\n",
       "      <td>-0.000000</td>\n",
       "    </tr>\n",
       "    <tr>\n",
       "      <th>Feature2^2 Feature4</th>\n",
       "      <td>-0.000000</td>\n",
       "    </tr>\n",
       "    <tr>\n",
       "      <th>Feature2^2 Feature5</th>\n",
       "      <td>0.000000</td>\n",
       "    </tr>\n",
       "    <tr>\n",
       "      <th>Feature2 Feature3^2</th>\n",
       "      <td>-0.000000</td>\n",
       "    </tr>\n",
       "    <tr>\n",
       "      <th>Feature2 Feature3 Feature4</th>\n",
       "      <td>-0.000000</td>\n",
       "    </tr>\n",
       "    <tr>\n",
       "      <th>Feature2 Feature3 Feature5</th>\n",
       "      <td>0.000000</td>\n",
       "    </tr>\n",
       "    <tr>\n",
       "      <th>Feature2 Feature4^2</th>\n",
       "      <td>-0.000000</td>\n",
       "    </tr>\n",
       "    <tr>\n",
       "      <th>Feature2 Feature4 Feature5</th>\n",
       "      <td>-0.000000</td>\n",
       "    </tr>\n",
       "    <tr>\n",
       "      <th>Feature2 Feature5^2</th>\n",
       "      <td>-0.000000</td>\n",
       "    </tr>\n",
       "    <tr>\n",
       "      <th>Feature3^3</th>\n",
       "      <td>-0.000000</td>\n",
       "    </tr>\n",
       "    <tr>\n",
       "      <th>Feature3^2 Feature4</th>\n",
       "      <td>0.000000</td>\n",
       "    </tr>\n",
       "    <tr>\n",
       "      <th>Feature3^2 Feature5</th>\n",
       "      <td>0.000000</td>\n",
       "    </tr>\n",
       "    <tr>\n",
       "      <th>Feature3 Feature4^2</th>\n",
       "      <td>-0.000000</td>\n",
       "    </tr>\n",
       "    <tr>\n",
       "      <th>Feature3 Feature4 Feature5</th>\n",
       "      <td>0.000000</td>\n",
       "    </tr>\n",
       "    <tr>\n",
       "      <th>Feature3 Feature5^2</th>\n",
       "      <td>-0.000000</td>\n",
       "    </tr>\n",
       "    <tr>\n",
       "      <th>Feature4^3</th>\n",
       "      <td>-0.000000</td>\n",
       "    </tr>\n",
       "    <tr>\n",
       "      <th>Feature4^2 Feature5</th>\n",
       "      <td>0.000398</td>\n",
       "    </tr>\n",
       "    <tr>\n",
       "      <th>Feature4 Feature5^2</th>\n",
       "      <td>-0.000000</td>\n",
       "    </tr>\n",
       "    <tr>\n",
       "      <th>Feature5^3</th>\n",
       "      <td>0.099561</td>\n",
       "    </tr>\n",
       "  </tbody>\n",
       "</table>\n",
       "</div>"
      ],
      "text/plain": [
       "                            Coefficients Metamodel\n",
       "Feature1                                 -0.000000\n",
       "Feature2                                 12.763041\n",
       "Feature3                                 -0.000000\n",
       "Feature4                                 -0.000000\n",
       "Feature5                                  0.078203\n",
       "Feature1^2                                4.988110\n",
       "Feature1 Feature2                        -0.000000\n",
       "Feature1 Feature3                        -0.000000\n",
       "Feature1 Feature4                         0.000000\n",
       "Feature1 Feature5                         0.003252\n",
       "Feature2^2                                0.000000\n",
       "Feature2 Feature3                        -0.000000\n",
       "Feature2 Feature4                        -0.000000\n",
       "Feature2 Feature5                         0.000000\n",
       "Feature3^2                               -0.000000\n",
       "Feature3 Feature4                        -0.000000\n",
       "Feature3 Feature5                         0.000000\n",
       "Feature4^2                               -0.000000\n",
       "Feature4 Feature5                         1.983644\n",
       "Feature5^2                               -0.000000\n",
       "Feature1^3                               -0.000000\n",
       "Feature1^2 Feature2                       0.000000\n",
       "Feature1^2 Feature3                      -0.000369\n",
       "Feature1^2 Feature4                      -0.000000\n",
       "Feature1^2 Feature5                       0.000000\n",
       "Feature1 Feature2^2                       0.000000\n",
       "Feature1 Feature2 Feature3               -0.000000\n",
       "Feature1 Feature2 Feature4               -0.000000\n",
       "Feature1 Feature2 Feature5                0.000000\n",
       "Feature1 Feature3^2                      -0.000000\n",
       "Feature1 Feature3 Feature4               -0.000000\n",
       "Feature1 Feature3 Feature5                0.000000\n",
       "Feature1 Feature4^2                      -0.000000\n",
       "Feature1 Feature4 Feature5                0.798465\n",
       "Feature1 Feature5^2                      -0.000000\n",
       "Feature2^3                                0.000000\n",
       "Feature2^2 Feature3                      -0.000000\n",
       "Feature2^2 Feature4                      -0.000000\n",
       "Feature2^2 Feature5                       0.000000\n",
       "Feature2 Feature3^2                      -0.000000\n",
       "Feature2 Feature3 Feature4               -0.000000\n",
       "Feature2 Feature3 Feature5                0.000000\n",
       "Feature2 Feature4^2                      -0.000000\n",
       "Feature2 Feature4 Feature5               -0.000000\n",
       "Feature2 Feature5^2                      -0.000000\n",
       "Feature3^3                               -0.000000\n",
       "Feature3^2 Feature4                       0.000000\n",
       "Feature3^2 Feature5                       0.000000\n",
       "Feature3 Feature4^2                      -0.000000\n",
       "Feature3 Feature4 Feature5                0.000000\n",
       "Feature3 Feature5^2                      -0.000000\n",
       "Feature4^3                               -0.000000\n",
       "Feature4^2 Feature5                       0.000398\n",
       "Feature4 Feature5^2                      -0.000000\n",
       "Feature5^3                                0.099561"
      ]
     },
     "execution_count": 726,
     "metadata": {},
     "output_type": "execute_result"
    }
   ],
   "source": [
    "coeff1 = pd.DataFrame(model1.coef_,index=df_poly.drop('y',axis=1).columns, columns=['Coefficients Metamodel'])\n",
    "coeff1"
   ]
  },
  {
   "cell_type": "code",
   "execution_count": 727,
   "metadata": {},
   "outputs": [
    {
     "data": {
      "text/plain": [
       "0.99999542278685583"
      ]
     },
     "execution_count": 727,
     "metadata": {},
     "output_type": "execute_result"
    }
   ],
   "source": [
    "model1.score(X_train,y_train)"
   ]
  },
  {
   "cell_type": "markdown",
   "metadata": {},
   "source": [
    "### Printing only the non-zero coefficients of the *metamodel*"
   ]
  },
  {
   "cell_type": "code",
   "execution_count": 728,
   "metadata": {},
   "outputs": [
    {
     "data": {
      "text/html": [
       "<div>\n",
       "<style>\n",
       "    .dataframe thead tr:only-child th {\n",
       "        text-align: right;\n",
       "    }\n",
       "\n",
       "    .dataframe thead th {\n",
       "        text-align: left;\n",
       "    }\n",
       "\n",
       "    .dataframe tbody tr th {\n",
       "        vertical-align: top;\n",
       "    }\n",
       "</style>\n",
       "<table border=\"1\" class=\"dataframe\">\n",
       "  <thead>\n",
       "    <tr style=\"text-align: right;\">\n",
       "      <th></th>\n",
       "      <th>Coefficients Metamodel</th>\n",
       "    </tr>\n",
       "  </thead>\n",
       "  <tbody>\n",
       "    <tr>\n",
       "      <th>Feature2</th>\n",
       "      <td>12.763041</td>\n",
       "    </tr>\n",
       "    <tr>\n",
       "      <th>Feature5</th>\n",
       "      <td>0.078203</td>\n",
       "    </tr>\n",
       "    <tr>\n",
       "      <th>Feature1^2</th>\n",
       "      <td>4.988110</td>\n",
       "    </tr>\n",
       "    <tr>\n",
       "      <th>Feature1 Feature5</th>\n",
       "      <td>0.003252</td>\n",
       "    </tr>\n",
       "    <tr>\n",
       "      <th>Feature4 Feature5</th>\n",
       "      <td>1.983644</td>\n",
       "    </tr>\n",
       "    <tr>\n",
       "      <th>Feature1^2 Feature3</th>\n",
       "      <td>-0.000369</td>\n",
       "    </tr>\n",
       "    <tr>\n",
       "      <th>Feature1 Feature4 Feature5</th>\n",
       "      <td>0.798465</td>\n",
       "    </tr>\n",
       "    <tr>\n",
       "      <th>Feature4^2 Feature5</th>\n",
       "      <td>0.000398</td>\n",
       "    </tr>\n",
       "    <tr>\n",
       "      <th>Feature5^3</th>\n",
       "      <td>0.099561</td>\n",
       "    </tr>\n",
       "  </tbody>\n",
       "</table>\n",
       "</div>"
      ],
      "text/plain": [
       "                            Coefficients Metamodel\n",
       "Feature2                                 12.763041\n",
       "Feature5                                  0.078203\n",
       "Feature1^2                                4.988110\n",
       "Feature1 Feature5                         0.003252\n",
       "Feature4 Feature5                         1.983644\n",
       "Feature1^2 Feature3                      -0.000369\n",
       "Feature1 Feature4 Feature5                0.798465\n",
       "Feature4^2 Feature5                       0.000398\n",
       "Feature5^3                                0.099561"
      ]
     },
     "execution_count": 728,
     "metadata": {},
     "output_type": "execute_result"
    }
   ],
   "source": [
    "coeff1[coeff1['Coefficients Metamodel']!=0]"
   ]
  },
  {
   "cell_type": "code",
   "execution_count": 729,
   "metadata": {
    "scrolled": false
   },
   "outputs": [
    {
     "data": {
      "text/plain": [
       "<matplotlib.collections.PathCollection at 0x24053198>"
      ]
     },
     "execution_count": 729,
     "metadata": {},
     "output_type": "execute_result"
    },
    {
     "data": {
      "image/png": "[encoded data removed]",
      "text/plain": [
       "<matplotlib.figure.Figure at 0x22a8f0b8>"
      ]
     },
     "metadata": {},
     "output_type": "display_data"
    }
   ],
   "source": [
    "plt.figure(figsize=(12,8))\n",
    "plt.xlabel(\"Predicted value with Metamodel\",fontsize=20)\n",
    "plt.ylabel(\"Actual y-values\",fontsize=20)\n",
    "plt.grid(1)\n",
    "plt.scatter(y_pred1,y_train,edgecolors=(0,0,0),lw=2,s=80)"
   ]
  },
  {
   "cell_type": "code",
   "execution_count": 730,
   "metadata": {},
   "outputs": [
    {
     "data": {
      "text/plain": [
       "(-2.3488899597733495,\n",
       " 0.95111004022665036,\n",
       " -219411.05940234032,\n",
       " 4607686.1897116499)"
      ]
     },
     "execution_count": 730,
     "metadata": {},
     "output_type": "execute_result"
    },
    {
     "data": {
      "image/png": "[encoded data removed]",
      "text/plain": [
       "<matplotlib.figure.Figure at 0x213c3e48>"
      ]
     },
     "metadata": {},
     "output_type": "display_data"
    }
   ],
   "source": [
    "# Display results\n",
    "m_log_alphas = -np.log10(model1.alphas_)\n",
    "\n",
    "plt.figure()\n",
    "ymin, ymax = 2300, 3800\n",
    "plt.plot(m_log_alphas, model1.mse_path_, ':')\n",
    "plt.plot(m_log_alphas, model1.mse_path_.mean(axis=-1), 'k',\n",
    "         label='Average across the folds', linewidth=2)\n",
    "plt.axvline(-np.log10(model1.alpha_), linestyle='--', color='k',\n",
    "            label='alpha: CV estimate')\n",
    "plt.legend()\n",
    "\n",
    "plt.xlabel('-log(alpha)')\n",
    "plt.ylabel('Mean square error')\n",
    "plt.axis('tight')"
   ]
  }
 ],
 "metadata": {
  "kernelspec": {
   "display_name": "Python 3",
   "language": "python",
   "name": "python3"
  },
  "language_info": {
   "codemirror_mode": {
    "name": "ipython",
    "version": 3
   },
   "file_extension": ".py",
   "mimetype": "text/x-python",
   "name": "python",
   "nbconvert_exporter": "python",
   "pygments_lexer": "ipython3",
   "version": "3.6.1"
  }
 },
 "nbformat": 4,
 "nbformat_minor": 2
}
