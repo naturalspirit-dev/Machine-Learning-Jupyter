{
 "cells": [
  {
   "cell_type": "markdown",
   "id": "e60f16d5-0aee-4935-9fd0-0bcbc3905411",
   "metadata": {},
   "source": [
    "# Pandas vs. PyArrow file reading speed comparison\n",
    "\n",
    "## Dr. Tirthajyoti Sarkar, Fremont, CA, April 2021\n",
    "\n",
    "---"
   ]
  },
  {
   "cell_type": "code",
   "execution_count": 1,
   "id": "812531a4-bb0e-49a2-9604-ec566c8359d9",
   "metadata": {},
   "outputs": [],
   "source": [
    "import time\n",
    "import matplotlib.pyplot as plt\n",
    "import numpy as np\n",
    "import pandas as pd\n",
    "import pyarrow.parquet as pq\n",
    "import os"
   ]
  },
  {
   "cell_type": "markdown",
   "id": "c878d7cc-0f58-4674-8055-7567beed9cc2",
   "metadata": {},
   "source": [
    "## Create CSV files of various sizes"
   ]
  },
  {
   "cell_type": "code",
   "execution_count": 2,
   "id": "0853d6e6-e6e4-4d6b-8dc0-b3391dd0fea3",
   "metadata": {},
   "outputs": [
    {
     "name": "stdout",
     "output_type": "stream",
     "text": [
      "Size of file with 5325 rows: 9.999 MB\n",
      "Size of file with 10650 rows: 19.999 MB\n",
      "Size of file with 15975 rows: 30.003 MB\n",
      "Size of file with 21300 rows: 40.01 MB\n",
      "Size of file with 26625 rows: 50.014 MB\n",
      "Size of file with 31950 rows: 60.02 MB\n",
      "Size of file with 37275 rows: 70.024 MB\n",
      "Size of file with 42600 rows: 80.03 MB\n",
      "Size of file with 47925 rows: 90.033 MB\n",
      "Size of file with 53250 rows: 100.039 MB\n"
     ]
    }
   ],
   "source": [
    "for i in range(1,11):\n",
    "    a = np.random.normal(size=(int(5325*i), int(1e2)))\n",
    "    df = pd.DataFrame(a, columns=[\"C\" + str(i) for i in range(100)])\n",
    "    fname = \"test\"+str(i)+\".csv\"\n",
    "    df.to_csv(fname)\n",
    "    print(f\"Size of file with {5325*i} rows: {round(os.path.getsize(fname)/(1024*1024),3)} MB\")"
   ]
  },
  {
   "cell_type": "markdown",
   "id": "f889311a-b24f-4188-83b7-d4d1aef507d8",
   "metadata": {},
   "source": [
    "## Create Parquet (compressed) files from the same CSV files"
   ]
  },
  {
   "cell_type": "code",
   "execution_count": 3,
   "id": "940d6fd5-1c47-4a2d-8b5d-300976a5f354",
   "metadata": {},
   "outputs": [
    {
     "name": "stdout",
     "output_type": "stream",
     "text": [
      "Created test1_parquet.zip\n",
      "Created test2_parquet.zip\n",
      "Created test3_parquet.zip\n",
      "Created test4_parquet.zip\n",
      "Created test5_parquet.zip\n",
      "Created test6_parquet.zip\n",
      "Created test7_parquet.zip\n",
      "Created test8_parquet.zip\n",
      "Created test9_parquet.zip\n",
      "Created test10_parquet.zip\n"
     ]
    }
   ],
   "source": [
    "for i in range(1,11):\n",
    "    fname = \"test\"+str(i)+\".csv\"\n",
    "    parquet_name = \"test\"+str(i)+\"_parquet.zip\"\n",
    "    df = pd.read_csv(fname)\n",
    "    df.to_parquet(parquet_name,compression=\"gzip\")\n",
    "    print(f\"Created {parquet_name}\")"
   ]
  },
  {
   "cell_type": "markdown",
   "id": "f3084faf-b242-4fde-849a-ac574fe594e0",
   "metadata": {},
   "source": [
    "The directory should look like this now...\n",
    "\n",
    "![dir](https://raw.githubusercontent.com/tirthajyoti/Machine-Learning-with-Python/master/Pandas%20and%20Numpy/Read_data_various_sources/dir.PNG)"
   ]
  },
  {
   "cell_type": "markdown",
   "id": "33b7f5df-7d78-450d-bf21-309ceaeabde7",
   "metadata": {},
   "source": [
    "---\n",
    "\n",
    "## Reading speed of CSV (in Pandas) and Parquet files (with `PyArrow`)"
   ]
  },
  {
   "cell_type": "code",
   "execution_count": 4,
   "id": "f90897c2-c99f-4974-b52f-fa8f34b6f5d0",
   "metadata": {},
   "outputs": [
    {
     "name": "stdout",
     "output_type": "stream",
     "text": [
      "Done for file # 1\n",
      "Done for file # 2\n",
      "Done for file # 3\n",
      "Done for file # 4\n",
      "Done for file # 5\n",
      "Done for file # 6\n",
      "Done for file # 7\n",
      "Done for file # 8\n",
      "Done for file # 9\n",
      "Done for file # 10\n"
     ]
    }
   ],
   "source": [
    "t_read_pd,t_read_arrow = [],[]\n",
    "\n",
    "for i in range(1,11):\n",
    "    fname = \"test\"+str(i)+\".csv\"\n",
    "    parquet_name = \"test\"+str(i)+\"_parquet.zip\"\n",
    "    t1 = time.time()\n",
    "    df1 = pd.read_csv(fname)\n",
    "    t2 = time.time()\n",
    "    delta_t = round((t2 - t1), 3)\n",
    "    t_read_pd.append(delta_t)\n",
    "    t1 = time.time()\n",
    "    df2 = pq.read_table(parquet_name)\n",
    "    t2 = time.time()\n",
    "    delta_t = round((t2 - t1), 3)\n",
    "    t_read_arrow.append(delta_t)\n",
    "    print(f\"Done for file # {i}\")"
   ]
  },
  {
   "cell_type": "code",
   "execution_count": 5,
   "id": "9e0f4eff-c3f9-4088-8785-4db160116975",
   "metadata": {},
   "outputs": [],
   "source": [
    "t_read_pd = np.array(t_read_pd)\n",
    "t_read_arrow = np.array(t_read_arrow)"
   ]
  },
  {
   "cell_type": "code",
   "execution_count": 6,
   "id": "86dfb137-3143-4ac4-970f-2d50cafc0bfe",
   "metadata": {},
   "outputs": [
    {
     "data": {
      "image/png": "[encoded data removed]",
      "text/plain": [
       "<Figure size 792x360 with 1 Axes>"
      ]
     },
     "metadata": {
      "needs_background": "light"
     },
     "output_type": "display_data"
    }
   ],
   "source": [
    "plt.figure(figsize=(11, 5))\n",
    "plt.plot(\n",
    "    [10*i for i in range(1, 11)], t_read_pd/t_read_arrow, \"bo--\", linewidth=2, markersize=8\n",
    ")\n",
    "plt.grid(True)\n",
    "plt.title(\n",
    "    \"Ratio of Pandas to Arrow time to read files with increasing size\",\n",
    "    fontsize=16,\n",
    ")\n",
    "plt.xticks([10*i for i in range(1, 11)],fontsize=14)\n",
    "plt.xlabel(\"Size (MB)\", fontsize=14)\n",
    "plt.ylabel(\"Ratio of Pandas/Arrow read time\", fontsize=14)\n",
    "plt.show()"
   ]
  },
  {
   "cell_type": "markdown",
   "id": "0352195e-0d21-4cf3-b953-4c95a0f5dd88",
   "metadata": {},
   "source": [
    "---\n",
    "\n",
    "## What's the order of read time? Seconds, milliseconds?"
   ]
  },
  {
   "cell_type": "code",
   "execution_count": 7,
   "id": "hybrid-immigration",
   "metadata": {},
   "outputs": [
    {
     "name": "stdout",
     "output_type": "stream",
     "text": [
      "Time taken to read 2 columns of a 100 MB (53250 rows) CSV file with Pandas: 1.107 seconds\n"
     ]
    }
   ],
   "source": [
    "t1 = time.time()\n",
    "df1 = pd.read_csv(\"test10.csv\", usecols=[\"C1\", \"C99\"])\n",
    "t2 = time.time()\n",
    "delta_t = round((t2 - t1), 3)\n",
    "print(\n",
    "    \"Time taken to read 2 columns of a 100 MB (53250 rows) CSV file with Pandas:\",\n",
    "    delta_t,\n",
    "    \"seconds\",\n",
    ")"
   ]
  },
  {
   "cell_type": "markdown",
   "id": "1fe506be-0aa7-4ae8-9363-a56ff5ae0cb6",
   "metadata": {},
   "source": [
    "#### The reading speed of the 100 MB CSV file with `pd.read_csv()` is about 0.6 seconds."
   ]
  },
  {
   "cell_type": "code",
   "execution_count": 8,
   "id": "suffering-stake",
   "metadata": {},
   "outputs": [
    {
     "data": {
      "text/html": [
       "<div>\n",
       "<style scoped>\n",
       "    .dataframe tbody tr th:only-of-type {\n",
       "        vertical-align: middle;\n",
       "    }\n",
       "\n",
       "    .dataframe tbody tr th {\n",
       "        vertical-align: top;\n",
       "    }\n",
       "\n",
       "    .dataframe thead th {\n",
       "        text-align: right;\n",
       "    }\n",
       "</style>\n",
       "<table border=\"1\" class=\"dataframe\">\n",
       "  <thead>\n",
       "    <tr style=\"text-align: right;\">\n",
       "      <th></th>\n",
       "      <th>C1</th>\n",
       "      <th>C99</th>\n",
       "    </tr>\n",
       "  </thead>\n",
       "  <tbody>\n",
       "    <tr>\n",
       "      <th>0</th>\n",
       "      <td>-0.692951</td>\n",
       "      <td>-0.799652</td>\n",
       "    </tr>\n",
       "    <tr>\n",
       "      <th>1</th>\n",
       "      <td>-1.065218</td>\n",
       "      <td>-0.200694</td>\n",
       "    </tr>\n",
       "    <tr>\n",
       "      <th>2</th>\n",
       "      <td>0.023773</td>\n",
       "      <td>-1.928832</td>\n",
       "    </tr>\n",
       "    <tr>\n",
       "      <th>3</th>\n",
       "      <td>-0.298594</td>\n",
       "      <td>-1.340441</td>\n",
       "    </tr>\n",
       "    <tr>\n",
       "      <th>4</th>\n",
       "      <td>1.021031</td>\n",
       "      <td>0.295909</td>\n",
       "    </tr>\n",
       "  </tbody>\n",
       "</table>\n",
       "</div>"
      ],
      "text/plain": [
       "         C1       C99\n",
       "0 -0.692951 -0.799652\n",
       "1 -1.065218 -0.200694\n",
       "2  0.023773 -1.928832\n",
       "3 -0.298594 -1.340441\n",
       "4  1.021031  0.295909"
      ]
     },
     "execution_count": 8,
     "metadata": {},
     "output_type": "execute_result"
    }
   ],
   "source": [
    "df1.head()"
   ]
  },
  {
   "cell_type": "code",
   "execution_count": 9,
   "id": "assumed-harvard",
   "metadata": {},
   "outputs": [
    {
     "name": "stdout",
     "output_type": "stream",
     "text": [
      "Time taken to read 2 columns of the identical 53250 rows zipped parquet file with PyArrow: 0.019 seconds\n"
     ]
    }
   ],
   "source": [
    "t1 = time.time()\n",
    "df2 = pq.read_table(\"test10_parquet.zip\", columns=[\"C1\", \"C99\"])\n",
    "t2 = time.time()\n",
    "delta_t = round((t2 - t1), 3)\n",
    "print(\n",
    "    \"Time taken to read 2 columns of the identical 53250 rows zipped parquet file with PyArrow:\",\n",
    "    delta_t,\n",
    "    \"seconds\",\n",
    ")"
   ]
  },
  {
   "cell_type": "markdown",
   "id": "0d8c9230-179e-45fe-be85-120d8286f5d8",
   "metadata": {},
   "source": [
    "#### The reading speed of the same file (in the parquet gzipped version) with `pq.read_table()` is about 0.012 seconds!"
   ]
  },
  {
   "cell_type": "code",
   "execution_count": 10,
   "id": "joint-safety",
   "metadata": {},
   "outputs": [
    {
     "data": {
      "text/html": [
       "<div>\n",
       "<style scoped>\n",
       "    .dataframe tbody tr th:only-of-type {\n",
       "        vertical-align: middle;\n",
       "    }\n",
       "\n",
       "    .dataframe tbody tr th {\n",
       "        vertical-align: top;\n",
       "    }\n",
       "\n",
       "    .dataframe thead th {\n",
       "        text-align: right;\n",
       "    }\n",
       "</style>\n",
       "<table border=\"1\" class=\"dataframe\">\n",
       "  <thead>\n",
       "    <tr style=\"text-align: right;\">\n",
       "      <th></th>\n",
       "      <th>C1</th>\n",
       "      <th>C99</th>\n",
       "    </tr>\n",
       "  </thead>\n",
       "  <tbody>\n",
       "    <tr>\n",
       "      <th>0</th>\n",
       "      <td>-0.692951</td>\n",
       "      <td>-0.799652</td>\n",
       "    </tr>\n",
       "    <tr>\n",
       "      <th>1</th>\n",
       "      <td>-1.065218</td>\n",
       "      <td>-0.200694</td>\n",
       "    </tr>\n",
       "    <tr>\n",
       "      <th>2</th>\n",
       "      <td>0.023773</td>\n",
       "      <td>-1.928832</td>\n",
       "    </tr>\n",
       "    <tr>\n",
       "      <th>3</th>\n",
       "      <td>-0.298594</td>\n",
       "      <td>-1.340441</td>\n",
       "    </tr>\n",
       "    <tr>\n",
       "      <th>4</th>\n",
       "      <td>1.021031</td>\n",
       "      <td>0.295909</td>\n",
       "    </tr>\n",
       "  </tbody>\n",
       "</table>\n",
       "</div>"
      ],
      "text/plain": [
       "         C1       C99\n",
       "0 -0.692951 -0.799652\n",
       "1 -1.065218 -0.200694\n",
       "2  0.023773 -1.928832\n",
       "3 -0.298594 -1.340441\n",
       "4  1.021031  0.295909"
      ]
     },
     "execution_count": 10,
     "metadata": {},
     "output_type": "execute_result"
    }
   ],
   "source": [
    "# Convert from PyArrow table to dataframe\n",
    "df3 = df2.to_pandas()\n",
    "df3.head()"
   ]
  },
  {
   "cell_type": "markdown",
   "id": "a8339aab-9d39-4e0d-bcdf-21b61368e856",
   "metadata": {},
   "source": [
    "#### The dataframes `df1` and `df3` are the same, as expected."
   ]
  },
  {
   "cell_type": "markdown",
   "id": "c8dfadbf-918e-4257-8271-076717c3fab3",
   "metadata": {},
   "source": [
    "---\n",
    "\n",
    "## Reading a small number of columns is much faster with Arrow"
   ]
  },
  {
   "cell_type": "code",
   "execution_count": 11,
   "id": "deluxe-absence",
   "metadata": {},
   "outputs": [
    {
     "name": "stdout",
     "output_type": "stream",
     "text": [
      "Done for 2 columns\n",
      "Done for 4 columns\n",
      "Done for 6 columns\n",
      "Done for 8 columns\n",
      "Done for 10 columns\n",
      "Done for 12 columns\n",
      "Done for 14 columns\n",
      "Done for 16 columns\n",
      "Done for 18 columns\n",
      "Done for 20 columns\n",
      "Done for 22 columns\n",
      "Done for 24 columns\n",
      "Done for 26 columns\n",
      "Done for 28 columns\n",
      "Done for 30 columns\n",
      "Done for 32 columns\n",
      "Done for 34 columns\n",
      "Done for 36 columns\n",
      "Done for 38 columns\n",
      "Done for 40 columns\n",
      "Done for 42 columns\n",
      "Done for 44 columns\n",
      "Done for 46 columns\n",
      "Done for 48 columns\n",
      "Done for 50 columns\n",
      "Done for 52 columns\n",
      "Done for 54 columns\n",
      "Done for 56 columns\n",
      "Done for 58 columns\n",
      "Done for 60 columns\n",
      "Done for 62 columns\n",
      "Done for 64 columns\n",
      "Done for 66 columns\n",
      "Done for 68 columns\n",
      "Done for 70 columns\n",
      "Done for 72 columns\n",
      "Done for 74 columns\n",
      "Done for 76 columns\n",
      "Done for 78 columns\n",
      "Done for 80 columns\n",
      "Done for 82 columns\n",
      "Done for 84 columns\n",
      "Done for 86 columns\n",
      "Done for 88 columns\n",
      "Done for 90 columns\n",
      "Done for 92 columns\n",
      "Done for 94 columns\n",
      "Done for 96 columns\n",
      "Done for 98 columns\n"
     ]
    }
   ],
   "source": [
    "all_cols = [\"C\" + str(i) for i in range(100)]\n",
    "t_pandas, t_arrow = [], []\n",
    "for i in range(2, 100, 2):\n",
    "    cols = list(np.random.choice(all_cols, size=i))\n",
    "    t1 = time.time()\n",
    "    df1 = pd.read_csv(\"test10.csv\", usecols=cols)\n",
    "    t2 = time.time()\n",
    "    delta_t_pandas = round((t2 - t1), 3)\n",
    "    t_pandas.append(delta_t_pandas)\n",
    "    t1 = time.time()\n",
    "    df2 = pq.read_table(\"test10_parquet.zip\", columns=cols)\n",
    "    t2 = time.time()\n",
    "    delta_t_arrow = round((t2 - t1), 3)\n",
    "    t_arrow.append(delta_t_arrow)\n",
    "    print(f\"Done for {i} columns\")"
   ]
  },
  {
   "cell_type": "code",
   "execution_count": 12,
   "id": "touched-stockholm",
   "metadata": {},
   "outputs": [],
   "source": [
    "t_pandas = np.array(t_pandas)\n",
    "t_arrow = np.array(t_arrow)"
   ]
  },
  {
   "cell_type": "code",
   "execution_count": 13,
   "id": "behavioral-chester",
   "metadata": {},
   "outputs": [
    {
     "data": {
      "image/png": "[encoded data removed]",
      "text/plain": [
       "<Figure size 792x360 with 1 Axes>"
      ]
     },
     "metadata": {
      "needs_background": "light"
     },
     "output_type": "display_data"
    }
   ],
   "source": [
    "plt.figure(figsize=(11, 5))\n",
    "plt.plot(\n",
    "    [i for i in range(2, 100, 2)], t_pandas / t_arrow, \"bo--\", linewidth=2, markersize=8\n",
    ")\n",
    "plt.grid(True)\n",
    "plt.title(\n",
    "    \"Ratio of Pandas to Arrow time to read a 100 MB CSV file with increasing # of columns\",\n",
    "    fontsize=15,\n",
    ")\n",
    "plt.xticks([i for i in range(0, 100, 10)],fontsize=14)\n",
    "plt.xlabel(\"No. of columns\", fontsize=14)\n",
    "plt.ylabel(\"Ratio of Pandas/Arrow read time\", fontsize=14)\n",
    "plt.show()"
   ]
  }
 ],
 "metadata": {
  "kernelspec": {
   "display_name": "Python 3",
   "language": "python",
   "name": "python3"
  },
  "language_info": {
   "codemirror_mode": {
    "name": "ipython",
    "version": 3
   },
   "file_extension": ".py",
   "mimetype": "text/x-python",
   "name": "python",
   "nbconvert_exporter": "python",
   "pygments_lexer": "ipython3",
   "version": "3.9.4"
  }
 },
 "nbformat": 4,
 "nbformat_minor": 5
}
