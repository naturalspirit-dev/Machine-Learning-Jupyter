{
 "cells": [
  {
   "cell_type": "markdown",
   "metadata": {},
   "source": [
    "# NumPy Practice\n",
    "## Vectors, Matrices \n",
    "* object type\n",
    "* dimension\n",
    "* size \n",
    "* shape\n",
    "* data type"
   ]
  },
  {
   "cell_type": "code",
   "execution_count": 2,
   "metadata": {
    "collapsed": false
   },
   "outputs": [
    {
     "name": "stdout",
     "output_type": "stream",
     "text": [
      "Type/Class of this object: <class 'numpy.ndarray'>\n",
      "Here is the vector\n",
      "--------------------\n",
      " [1 2 3]\n"
     ]
    }
   ],
   "source": [
    "my_list = [1,2,3]\n",
    "import numpy as np\n",
    "arr = np.array(my_list)\n",
    "print(\"Type/Class of this object:\",type(arr))\n",
    "print(\"Here is the vector\\n--------------------\\n\",arr)"
   ]
  },
  {
   "cell_type": "code",
   "execution_count": 4,
   "metadata": {
    "collapsed": false
   },
   "outputs": [
    {
     "name": "stdout",
     "output_type": "stream",
     "text": [
      "Type/Class of this object: <class 'numpy.ndarray'>\n",
      "Here is the matrix\n",
      "----------\n",
      " [[1 2 3]\n",
      " [4 5 6]\n",
      " [7 8 9]] \n",
      "----------\n",
      "Dimension of this matrix: 2\n",
      "Size of this matrix: 9\n",
      "Shape of this matrix: (3, 3)\n",
      "Data type of this matrix: int32\n",
      "Data type of the modified matrix: float64\n",
      "\n",
      "\n",
      "Even tuples can be converted to ndarrays...\n",
      "We write b = np.array([(1.5,2,3), (4,5,6)])\n",
      "Matrix made from tuples, not lists\n",
      "---------------------------------------\n",
      "[[ 1.5  2.   3. ]\n",
      " [ 4.   5.   6. ]]\n"
     ]
    }
   ],
   "source": [
    "my_mat = [[1,2,3],[4,5,6],[7,8,9]]\n",
    "mat = np.array(my_mat)\n",
    "print(\"Type/Class of this object:\",type(mat))\n",
    "print(\"Here is the matrix\\n----------\\n\",mat,\"\\n----------\")\n",
    "print(\"Dimension of this matrix: \",mat.ndim,sep='') #ndim gives the dimensison, 2 for a matrix, 1 for a vector\n",
    "print(\"Size of this matrix: \", mat.size,sep='') #size gives the total number of elements\n",
    "print(\"Shape of this matrix: \", mat.shape,sep='') #shape gives the number of elements along each axes (dimension)\n",
    "print(\"Data type of this matrix: \", mat.dtype,sep='') #dtype gives the data type contained in the array\n",
    "\n",
    "my_mat = [[1.1,2,3],[4,5.2,6],[7,8.3,9]]\n",
    "mat = np.array(my_mat)\n",
    "print(\"Data type of the modified matrix: \", mat.dtype,sep='') #dtype gives the data type contained in the array\n",
    "print(\"\\n\\nEven tuples can be converted to ndarrays...\")\n",
    "\n",
    "b = np.array([(1.5,2,3), (4,5,6)])\n",
    "print(\"We write b = np.array([(1.5,2,3), (4,5,6)])\")\n",
    "print(\"Matrix made from tuples, not lists\\n---------------------------------------\")\n",
    "print(b)"
   ]
  },
  {
   "cell_type": "markdown",
   "metadata": {},
   "source": [
    "## 'arange' and 'linspace'"
   ]
  },
  {
   "cell_type": "code",
   "execution_count": 66,
   "metadata": {
    "collapsed": false
   },
   "outputs": [
    {
     "name": "stdout",
     "output_type": "stream",
     "text": [
      "A series of numbers: [ 5  6  7  8  9 10 11 12 13 14 15]\n"
     ]
    }
   ],
   "source": [
    "print(\"A series of numbers:\",np.arange(5,16)) # A series of numbers from low to high"
   ]
  },
  {
   "cell_type": "code",
   "execution_count": 63,
   "metadata": {
    "collapsed": false
   },
   "outputs": [
    {
     "name": "stdout",
     "output_type": "stream",
     "text": [
      "Numbers spaced apart by 2: [ 0  2  4  6  8 10]\n"
     ]
    }
   ],
   "source": [
    "print(\"Numbers spaced apart by 2:\",np.arange(0,11,2)) # Numbers spaced apart by 2"
   ]
  },
  {
   "cell_type": "code",
   "execution_count": 97,
   "metadata": {
    "collapsed": false
   },
   "outputs": [
    {
     "name": "stdout",
     "output_type": "stream",
     "text": [
      "Numbers spaced apart by float: [  0.    2.5   5.    7.5  10. ]\n"
     ]
    }
   ],
   "source": [
    "print(\"Numbers spaced apart by float:\",np.arange(0,11,2.5)) # Numbers spaced apart by 2.5"
   ]
  },
  {
   "cell_type": "code",
   "execution_count": 71,
   "metadata": {
    "collapsed": false
   },
   "outputs": [
    {
     "name": "stdout",
     "output_type": "stream",
     "text": [
      "Every 5th number from 50 in reverse order\n",
      " [50 45 40 35 30 25 20 15 10  5  0]\n"
     ]
    }
   ],
   "source": [
    "print(\"Every 5th number from 50 in reverse order\\n\",np.arange(50,-1,-5))"
   ]
  },
  {
   "cell_type": "code",
   "execution_count": 73,
   "metadata": {
    "collapsed": false
   },
   "outputs": [
    {
     "name": "stdout",
     "output_type": "stream",
     "text": [
      "21 linearly spaced numbers between 1 and 5\n",
      "--------------------------------------------\n",
      "[ 1.   1.2  1.4  1.6  1.8  2.   2.2  2.4  2.6  2.8  3.   3.2  3.4  3.6  3.8\n",
      "  4.   4.2  4.4  4.6  4.8  5. ]\n"
     ]
    }
   ],
   "source": [
    "print(\"21 linearly spaced numbers between 1 and 5\\n--------------------------------------------\")\n",
    "print(np.linspace(1,5,21))"
   ]
  },
  {
   "cell_type": "markdown",
   "metadata": {},
   "source": [
    "## Zeroes, Ones, empty, and Identity matrix"
   ]
  },
  {
   "cell_type": "code",
   "execution_count": 75,
   "metadata": {
    "collapsed": false
   },
   "outputs": [
    {
     "name": "stdout",
     "output_type": "stream",
     "text": [
      "Vector of zeroes\n",
      "---------------------\n",
      "[ 0.  0.  0.  0.  0.]\n",
      "Matrix of zeroes\n",
      "--------------------\n",
      "[[ 0.  0.  0.  0.]\n",
      " [ 0.  0.  0.  0.]\n",
      " [ 0.  0.  0.  0.]]\n"
     ]
    }
   ],
   "source": [
    "print(\"Vector of zeroes\\n---------------------\")\n",
    "print(np.zeros(5))\n",
    "print(\"Matrix of zeroes\\n--------------------\")\n",
    "print(np.zeros((3,4))) # Notice Tuples"
   ]
  },
  {
   "cell_type": "code",
   "execution_count": 79,
   "metadata": {
    "collapsed": false
   },
   "outputs": [
    {
     "name": "stdout",
     "output_type": "stream",
     "text": [
      "Vector of ones\n",
      "---------------------\n",
      "[ 1.  1.  1.  1.  1.]\n",
      "Matrix of ones\n",
      "---------------------\n",
      "[[ 1.  1.]\n",
      " [ 1.  1.]\n",
      " [ 1.  1.]\n",
      " [ 1.  1.]\n",
      " [ 1.  1.]]\n",
      "\nMatrix of 5's\n",
      "---------------------\n",
      "[[ 5.  5.  5.  5.  5.]\n",
      " [ 5.  5.  5.  5.  5.]\n",
      " [ 5.  5.  5.  5.  5.]]\n"
     ]
    }
   ],
   "source": [
    "print(\"Vector of ones\\n---------------------\")\n",
    "print(np.ones(5))\n",
    "print(\"Matrix of ones\\n---------------------\")\n",
    "print(np.ones((5,2))) # Note matrix dimension specified by Tuples\n",
    "print(\"Matrix of 5's\\n---------------------\")\n",
    "print(5*np.ones((3,5)))"
   ]
  },
  {
   "cell_type": "code",
   "execution_count": 95,
   "metadata": {
    "collapsed": false
   },
   "outputs": [
    {
     "name": "stdout",
     "output_type": "stream",
     "text": [
      "Empty matrix\n",
      "-------------\n",
      " [[ 0.  0.  0.  0.  0.]\n",
      " [ 0.  0.  0.  0.  0.]\n",
      " [ 0.  0.  0.  0.  0.]]\n"
     ]
    }
   ],
   "source": [
    "print(\"Empty matrix\\n-------------\\n\", np.empty((3,5)))"
   ]
  },
  {
   "cell_type": "code",
   "execution_count": 43,
   "metadata": {
    "collapsed": false
   },
   "outputs": [
    {
     "name": "stdout",
     "output_type": "stream",
     "text": [
      "Identity matrix of dimension (4, 4)\n",
      "[[ 1.  0.  0.  0.]\n",
      " [ 0.  1.  0.  0.]\n",
      " [ 0.  0.  1.  0.]\n",
      " [ 0.  0.  0.  1.]]\n"
     ]
    }
   ],
   "source": [
    "mat1 = np.eye(4) \n",
    "print(\"Identity matrix of dimension\", mat1.shape)\n",
    "print(mat1)"
   ]
  },
  {
   "cell_type": "markdown",
   "metadata": {},
   "source": [
    "## Random number generation"
   ]
  },
  {
   "cell_type": "code",
   "execution_count": 44,
   "metadata": {
    "collapsed": false
   },
   "outputs": [
    {
     "name": "stdout",
     "output_type": "stream",
     "text": [
      "Random number generation (from Uniform distribution)\n",
      "[[ 0.1693859   0.29321079  0.2806974 ]\n",
      " [ 0.88785322  0.53001756  0.84104681]]\n"
     ]
    }
   ],
   "source": [
    "print(\"Random number generation (from Uniform distribution)\")\n",
    "print(np.random.rand(2,3)) # 2 by 3 matrix with random numbers ranging from 0 to 1, Note no Tuple is necessary "
   ]
  },
  {
   "cell_type": "code",
   "execution_count": 51,
   "metadata": {
    "collapsed": false
   },
   "outputs": [
    {
     "name": "stdout",
     "output_type": "stream",
     "text": [
      "Numbers from Normal distribution with zero mean and standard deviation 1 i.e. standard normal\n",
      "[[ 0.76079984 -0.08297581 -0.73919191]\n",
      " [ 1.28987052  1.56506408 -0.61674267]\n",
      " [-1.18697333 -1.68918981  1.06159956]\n",
      " [ 0.79886215 -1.14500189 -0.74527344]]\n"
     ]
    }
   ],
   "source": [
    "print(\"Numbers from Normal distribution with zero mean and standard deviation 1 i.e. standard normal\")\n",
    "print(np.random.randn(4,3))"
   ]
  },
  {
   "cell_type": "code",
   "execution_count": 49,
   "metadata": {
    "collapsed": false
   },
   "outputs": [
    {
     "name": "stdout",
     "output_type": "stream",
     "text": [
      "Random integers...\n",
      "[98  2 43 71 37 30 30  7 53 71]\n",
      "20 samples drawn from a dice throw: [1 4 3 2 3 5 6 6 5 4 4 4 3 5 3 3 4 5 5 1]\n"
     ]
    }
   ],
   "source": [
    "print(\"Random integers...\")\n",
    "print(np.random.randint(1,100,10)) #randint (low, high, # of samples to be drawn)\n",
    "print(\"20 samples drawn from a dice throw:\",np.random.randint(1,7,20)) # 20 samples drawn from a dice throw"
   ]
  },
  {
   "cell_type": "markdown",
   "metadata": {},
   "source": [
    "## Reshaping, min, max, sort"
   ]
  },
  {
   "cell_type": "code",
   "execution_count": 5,
   "metadata": {
    "collapsed": false
   },
   "outputs": [
    {
     "name": "stdout",
     "output_type": "stream",
     "text": [
      "Shape of a: (30,)\n",
      "Shape of b: (2, 3, 5)\n",
      "Shape of c: (6, 5)\n",
      "\n",
      "b looks like\n",
      " -------------------- \n",
      " [[[57 40 21 94 88]\n",
      "  [30 70 16 78 91]\n",
      "  [ 5 27 17 39 95]]\n",
      "\n",
      " [[33 30 49 25 16]\n",
      "  [14 86  9 89 41]\n",
      "  [85 38 35 57 75]]] \n",
      " --------------------\n",
      "\n",
      "c looks like\n",
      " -------------------- \n",
      " [[57 40 21 94 88]\n",
      " [30 70 16 78 91]\n",
      " [ 5 27 17 39 95]\n",
      " [33 30 49 25 16]\n",
      " [14 86  9 89 41]\n",
      " [85 38 35 57 75]] \n",
      " --------------------\n",
      "\n",
      "Vector of random integers\n",
      " -------------------------------------------------- \n",
      " [71 39 22 75 21  8 81 36 70 62]\n",
      "\n",
      "Here is the sorted vector\n",
      " -------------------------------------------------- \n",
      " [ 8 21 22 36 39 62 70 71 75 81]\n",
      "\n",
      "5x5 Matrix of random integers\n",
      " -------------------------------------------------- \n",
      " [[40 93 36 16  5]\n",
      " [86 27 77 43 49]\n",
      " [93  9 29 75 64]\n",
      " [96 24 78 46 27]\n",
      " [ 6 80 73 34 47]]\n",
      "\n",
      "Here is the sorted matrix along each row\n",
      " -------------------------------------------------- \n",
      " [[ 5 16 36 40 93]\n",
      " [27 43 49 77 86]\n",
      " [ 9 29 64 75 93]\n",
      " [24 27 46 78 96]\n",
      " [ 6 34 47 73 80]]\n",
      "\n",
      "Here is the sorted matrix along each column\n",
      " -------------------------------------------------- \n",
      " [[ 6  9 29 16  5]\n",
      " [40 24 36 34 27]\n",
      " [86 27 73 43 47]\n",
      " [93 80 77 46 49]\n",
      " [96 93 78 75 64]]\n"
     ]
    }
   ],
   "source": [
    "from numpy.random import randint as ri\n",
    "a = ri(1,100,30)\n",
    "b = a.reshape(2,3,5)\n",
    "c = a.reshape(6,5)\n",
    "print (\"Shape of a:\", a.shape)\n",
    "print (\"Shape of b:\", b.shape)\n",
    "print (\"Shape of c:\", c.shape)\n",
    "print(\"\\nb looks like\\n\",'-'*20,\"\\n\",b,\"\\n\",'-'*20)\n",
    "print(\"\\nc looks like\\n\",'-'*20,\"\\n\",c,\"\\n\",'-'*20)\n",
    "\n",
    "A = ri(1,100,10) # Vector of random interegrs\n",
    "print(\"\\nVector of random integers\\n\",'-'*50,\"\\n\",A)\n",
    "print(\"\\nHere is the sorted vector\\n\",'-'*50,\"\\n\",np.sort(A, kind='mergesort'))\n",
    "\n",
    "M = ri(1,100,25).reshape(5,5) # Matrix of random interegrs\n",
    "print(\"\\n5x5 Matrix of random integers\\n\",'-'*50,\"\\n\",M)\n",
    "print(\"\\nHere is the sorted matrix along each row\\n\",'-'*50,\"\\n\",np.sort(M, kind='mergesort'))\n",
    "print(\"\\nHere is the sorted matrix along each column\\n\",'-'*50,\"\\n\",np.sort(M, axis=0, kind='mergesort'))"
   ]
  },
  {
   "cell_type": "code",
   "execution_count": 6,
   "metadata": {
    "collapsed": false
   },
   "outputs": [
    {
     "name": "stdout",
     "output_type": "stream",
     "text": [
      "Max of a: 96\n",
      "Max of b: 96\n",
      "Max of a location: 21\n",
      "Max of b location: 21\n",
      "Max of c location: 21\n"
     ]
    }
   ],
   "source": [
    "print(\"Max of a:\", a.max())\n",
    "print(\"Max of b:\", b.max())\n",
    "print(\"Max of a location:\", a.argmax())\n",
    "print(\"Max of b location:\", b.argmax())\n",
    "print(\"Max of c location:\", b.argmax())"
   ]
  },
  {
   "cell_type": "markdown",
   "metadata": {},
   "source": [
    "## Indexing and slicing"
   ]
  },
  {
   "cell_type": "code",
   "execution_count": 6,
   "metadata": {
    "collapsed": false
   },
   "outputs": [
    {
     "name": "stdout",
     "output_type": "stream",
     "text": [
      "Array: [ 0  1  2  3  4  5  6  7  8  9 10]\n",
      "Element at 7th index is: 7\n",
      "Elements from 3rd to 5th index are: [3 4 5]\n",
      "Elements up to 4th index are: [0 1 2 3]\n",
      "Elements from last backwards are: [10  9  8  7  6  5  4  3  2  1  0]\n",
      "3 Elements from last backwards are: [10  8  6]\n",
      "New array: [ 0  2  4  6  8 10 12 14 16 18 20]\n",
      "Elements at 2nd, 4th, and 9th index are: [ 4  8 18]\n"
     ]
    }
   ],
   "source": [
    "arr = np.arange(0,11)\n",
    "print(\"Array:\",arr)\n",
    "print(\"Element at 7th index is:\", arr[7])\n",
    "print(\"Elements from 3rd to 5th index are:\", arr[3:6])\n",
    "print(\"Elements up to 4th index are:\", arr[:4])\n",
    "print(\"Elements from last backwards are:\", arr[-1::-1])\n",
    "print(\"3 Elements from last backwards are:\", arr[-1:-6:-2])\n",
    "\n",
    "arr = np.arange(0,21,2)\n",
    "print(\"New array:\",arr)\n",
    "print(\"Elements at 2nd, 4th, and 9th index are:\", arr[[2,4,9]]) # Pass a list as a index to subset"
   ]
  },
  {
   "cell_type": "code",
   "execution_count": 7,
   "metadata": {
    "collapsed": false
   },
   "outputs": [
    {
     "name": "stdout",
     "output_type": "stream",
     "text": [
      "Matrix of random 2-digit numbers\n",
      "--------------------------------\n",
      " [[10 88 51 68 71]\n",
      " [47 76 62 38 67]\n",
      " [71 43 44 55 31]]\n",
      "\n",
      "Double bracket indexing\n",
      "------------------------\n",
      "Element in row index 1 and column index 2: 62\n",
      "\n",
      "Single bracket with comma indexing\n",
      "----------------------------------\n",
      "Element in row index 1 and column index 2: 62\n",
      "\n",
      "Row or column extract\n",
      "----------------------\n",
      "Entire row at index 2: [71 43 44 55 31]\n",
      "Entire column at index 3: [68 38 55]\n",
      "\n",
      "Subsetting sub-matrices\n",
      "--------------------------\n",
      "Matrix with row indices 1 and 2 and column indices 3 and 4\n",
      " [[38 67]\n",
      " [55 31]]\n",
      "Matrix with row indices 0 and 1 and column indices 1 and 3\n",
      " [[88 68]\n",
      " [76 38]]\n"
     ]
    }
   ],
   "source": [
    "mat = np.array(ri(10,100,15)).reshape(3,5)\n",
    "print(\"Matrix of random 2-digit numbers\\n--------------------------------\\n\",mat)\n",
    "\n",
    "print(\"\\nDouble bracket indexing\\n------------------------\")\n",
    "print(\"Element in row index 1 and column index 2:\", mat[1][2])\n",
    "\n",
    "print(\"\\nSingle bracket with comma indexing\\n----------------------------------\")\n",
    "print(\"Element in row index 1 and column index 2:\", mat[1,2])\n",
    "print(\"\\nRow or column extract\\n----------------------\")\n",
    "\n",
    "print(\"Entire row at index 2:\", mat[2])\n",
    "print(\"Entire column at index 3:\", mat[:,3])\n",
    "\n",
    "print(\"\\nSubsetting sub-matrices\\n--------------------------\")\n",
    "print(\"Matrix with row indices 1 and 2 and column indices 3 and 4\\n\", mat[1:3,3:5])\n",
    "print(\"Matrix with row indices 0 and 1 and column indices 1 and 3\\n\", mat[0:2,[1,3]])"
   ]
  },
  {
   "cell_type": "markdown",
   "metadata": {},
   "source": [
    "### Conditional subsetting"
   ]
  },
  {
   "cell_type": "code",
   "execution_count": 9,
   "metadata": {
    "collapsed": false
   },
   "outputs": [
    {
     "name": "stdout",
     "output_type": "stream",
     "text": [
      "Matrix of random 2-digit numbers\n",
      "--------------------------------\n",
      " [[76 74 57 40 23]\n",
      " [11 39 74 33 38]\n",
      " [56 32 38 43 23]]\n",
      "Elements greater than 50\n",
      " [76 74 57 74 56]\n"
     ]
    }
   ],
   "source": [
    "mat = np.array(ri(10,100,15)).reshape(3,5)\n",
    "print(\"Matrix of random 2-digit numbers\\n--------------------------------\\n\",mat)\n",
    "print (\"Elements greater than 50\\n\", mat[mat>50])"
   ]
  },
  {
   "cell_type": "markdown",
   "metadata": {},
   "source": [
    "## Array operations (array-array, array-scalar, universal functions)"
   ]
  },
  {
   "cell_type": "code",
   "execution_count": 8,
   "metadata": {
    "collapsed": false
   },
   "outputs": [
    {
     "name": "stdout",
     "output_type": "stream",
     "text": [
      "\n",
      "1st Matrix of random single-digit numbers\n",
      "----------------------------------------\n",
      " [[4 1 3]\n",
      " [2 4 3]\n",
      " [4 1 6]]\n",
      "\n",
      "2nd Matrix of random single-digit numbers\n",
      "----------------------------------------\n",
      " [[6 1 2]\n",
      " [7 2 5]\n",
      " [2 6 1]]\n",
      "\n",
      "Addition\n",
      "------------------\n",
      " [[10  2  5]\n",
      " [ 9  6  8]\n",
      " [ 6  7  7]]\n",
      "\n",
      "Multiplication\n",
      "------------------\n",
      " [[24  1  6]\n",
      " [14  8 15]\n",
      " [ 8  6  6]]\n",
      "\n",
      "Division\n",
      "------------------\n",
      " [[ 0.66666667  1.          1.5       ]\n",
      " [ 0.28571429  2.          0.6       ]\n",
      " [ 2.          0.16666667  6.        ]]\n",
      "\n",
      "Lineaer combination: 3*A - 2*B\n",
      "-----------------------------\n",
      " [[ 0  1  5]\n",
      " [-8  8 -1]\n",
      " [ 8 -9 16]]\n",
      "\n",
      "Addition of a scalar (100)\n",
      "-------------------------\n",
      " [[104 101 103]\n",
      " [102 104 103]\n",
      " [104 101 106]]\n",
      "\n",
      "Exponentiation, matrix cubed here\n",
      "----------------------------------------\n",
      " [[ 64   1  27]\n",
      " [  8  64  27]\n",
      " [ 64   1 216]]\n",
      "\n",
      "Exponentiation, sq-root using pow function\n",
      "-------------------------------------------\n",
      " [[ 2.          1.          1.73205081]\n",
      " [ 1.41421356  2.          1.73205081]\n",
      " [ 2.          1.          2.44948974]]\n"
     ]
    }
   ],
   "source": [
    "mat1 = np.array(ri(1,10,9)).reshape(3,3)\n",
    "mat2 = np.array(ri(1,10,9)).reshape(3,3)\n",
    "print(\"\\n1st Matrix of random single-digit numbers\\n----------------------------------------\\n\",mat1)\n",
    "print(\"\\n2nd Matrix of random single-digit numbers\\n----------------------------------------\\n\",mat2)\n",
    "\n",
    "print(\"\\nAddition\\n------------------\\n\", mat1+mat2)\n",
    "print(\"\\nMultiplication\\n------------------\\n\", mat1*mat2)\n",
    "print(\"\\nDivision\\n------------------\\n\", mat1/mat2)\n",
    "print(\"\\nLineaer combination: 3*A - 2*B\\n-----------------------------\\n\", 3*mat1-2*mat2)\n",
    "\n",
    "print(\"\\nAddition of a scalar (100)\\n-------------------------\\n\", 100+mat1)\n",
    "\n",
    "print(\"\\nExponentiation, matrix cubed here\\n----------------------------------------\\n\", mat1**3)\n",
    "print(\"\\nExponentiation, sq-root using pow function\\n-------------------------------------------\\n\",pow(mat1,0.5))"
   ]
  },
  {
   "cell_type": "markdown",
   "metadata": {},
   "source": [
    "### NumPy mathematical functions on array"
   ]
  },
  {
   "cell_type": "code",
   "execution_count": 12,
   "metadata": {
    "collapsed": false,
    "scrolled": false
   },
   "outputs": [
    {
     "name": "stdout",
     "output_type": "stream",
     "text": [
      "\n",
      "1st Matrix of random single-digit numbers\n",
      "----------------------------------------\n",
      " [[2 5 2]\n",
      " [1 1 3]\n",
      " [5 6 1]]\n",
      "\n",
      "2nd Matrix of random single-digit numbers\n",
      "----------------------------------------\n",
      " [[6 9 3]\n",
      " [2 6 6]\n",
      " [3 9 3]]\n",
      "\n",
      "Sq-root of 1st matrix using np\n",
      "------------------\n",
      " [[ 1.41421356  2.23606798  1.41421356]\n",
      " [ 1.          1.          1.73205081]\n",
      " [ 2.23606798  2.44948974  1.        ]]\n",
      "\n",
      "Exponential power of 1st matrix using np\n",
      " -------------------------------------------------- \n",
      " [[   7.3890561   148.4131591     7.3890561 ]\n",
      " [   2.71828183    2.71828183   20.08553692]\n",
      " [ 148.4131591   403.42879349    2.71828183]]\n",
      "\n",
      "10-base logarithm on 1st matrix using np\n",
      " -------------------------------------------------- \n",
      " [[ 0.30103     0.69897     0.30103   ]\n",
      " [ 0.          0.          0.47712125]\n",
      " [ 0.69897     0.77815125  0.        ]]\n",
      "\n",
      "Modulo reminder using np\n",
      " -------------------------------------------------- \n",
      " [[2 5 2]\n",
      " [1 1 3]\n",
      " [2 6 1]]\n",
      "\n",
      "Combination of functions by shwoing exponetial decay of a sine wave\n",
      " ----------------------------------------------------------------------\n"
     ]
    },
    {
     "data": {
      "image/png": "[encoded data removed]",
      "text/plain": [
       "<matplotlib.figure.Figure at 0x1caadff4c50>"
      ]
     },
     "metadata": {},
     "output_type": "display_data"
    }
   ],
   "source": [
    "mat1 = np.array(ri(1,10,9)).reshape(3,3)\n",
    "mat2 = np.array(ri(1,10,9)).reshape(3,3)\n",
    "print(\"\\n1st Matrix of random single-digit numbers\\n----------------------------------------\\n\",mat1)\n",
    "print(\"\\n2nd Matrix of random single-digit numbers\\n----------------------------------------\\n\",mat2)\n",
    "\n",
    "print(\"\\nSq-root of 1st matrix using np\\n------------------\\n\", np.sqrt(mat1))\n",
    "print(\"\\nExponential power of 1st matrix using np\\n\",'-'*50,\"\\n\", np.exp(mat1))\n",
    "print(\"\\n10-base logarithm on 1st matrix using np\\n\",'-'*50,\"\\n\", np.log10(mat1))\n",
    "print(\"\\nModulo reminder using np\\n\",'-'*50,\"\\n\", np.fmod(mat1,mat2))\n",
    "\n",
    "print(\"\\nCombination of functions by shwoing exponetial decay of a sine wave\\n\",'-'*70)\n",
    "A = np.linspace(0,12*np.pi,1001)\n",
    "import matplotlib.pyplot as plt\n",
    "plt.scatter(x=A,y=100*np.exp(-A/10)*(np.sin(A)))\n",
    "plt.title(\"Exponential decay of sine wave: exp(-x)*sin(x)\")\n",
    "plt.show()"
   ]
  },
  {
   "cell_type": "markdown",
   "metadata": {},
   "source": [
    "### NumPy basic statistics on array"
   ]
  },
  {
   "cell_type": "code",
   "execution_count": 54,
   "metadata": {
    "collapsed": false
   },
   "outputs": [
    {
     "name": "stdout",
     "output_type": "stream",
     "text": [
      "\n",
      "1st Matrix of random single-digit numbers\n",
      " -------------------------------------------------- \n",
      " [[9 9 8]\n",
      " [5 9 3]\n",
      " [6 5 3]]\n",
      "\n",
      "2nd Matrix of random single-digit numbers\n",
      " -------------------------------------------------- \n",
      " [[4 4 7]\n",
      " [1 4 2]\n",
      " [3 6 7]]\n",
      "\n",
      "Sum of all numbers in 1st matrix\n",
      " -------------------------------------------------- \n",
      " 57\n",
      "\n",
      "Sum of all numbers in columns of 1st matrix\n",
      " -------------------------------------------------- \n",
      " [20 23 14]\n",
      "\n",
      "Sum of all numbers in rows of 1st matrix\n",
      " -------------------------------------------------- \n",
      " [26 17 14]\n",
      "\n",
      "Mean of all numbers in 1st matrix\n",
      " -------------------------------------------------- \n",
      " 6.33333333333\n",
      "\n",
      "Standard deviation of all numbers in 1st matrix\n",
      " -------------------------------------------------- \n",
      " 2.35702260396\n",
      "\n",
      "Modified matrix of random numbers from 1 to 99\n",
      " -------------------------------------------------- \n",
      " [[26 82 58]\n",
      " [34  4 65]\n",
      " [99 31 75]]\n",
      "\n",
      "Standard deviation of all numbers in the modified matrix, a larger number\n",
      " -------------------------------------------------------------------------------- \n",
      " 29.0287214094\n",
      "\n",
      "Variance of all numbers in the modified matrix, a larger number\n",
      " -------------------------------------------------------------------------------- \n",
      " 842.666666667\n",
      "\n",
      "Median of all numbers in the modified matrix\n",
      " ------------------------------------------------------------ \n",
      " 58.0\n",
      "\n",
      "Modified matrix of 50 random numbers from 1 to 99\n",
      " -------------------------------------------------- \n",
      " [[83 39 19 67 86]\n",
      " [29 76 87 88 29]\n",
      " [29 40 35  5 38]\n",
      " [42 76 57 87 80]\n",
      " [68 46 59 69 46]\n",
      " [27 83 39 27 43]\n",
      " [25 50 35 16 80]\n",
      " [36  7 53 42 51]\n",
      " [ 7 34 98 90 76]\n",
      " [93 48 12 61 90]]\n",
      "\n",
      "Standard deviation along the columns in the modified matrix\n",
      " ------------------------------------------------------------ \n",
      " [ 26.52338591  21.87898535  26.04688081  29.47473494  21.46369027]\n",
      "\n",
      "Modified matrix of random numbers from 1 to 49\n",
      " -------------------------------------------------- \n",
      " [[39 57  8  5 96]\n",
      " [ 1 54 93 82 96]\n",
      " [27 41 32 10 86]\n",
      " [90 61 33 91 27]]\n",
      "\n",
      "Flattened and sorted matrix (as vector)\n",
      " -------------------------------------------------- \n",
      " [[ 1  5  8 10 27 27 32 33 39 41 54 57 61 82 86 90 91 93 96 96]]\n",
      "\n",
      "50th percentile of all numbers in the modified matrix\n",
      " ------------------------------------------------------------ \n",
      " 47.5\n",
      "\n",
      "90th percentile of all numbers in the modified matrix\n",
      " ------------------------------------------------------------ \n",
      " 93.3\n"
     ]
    }
   ],
   "source": [
    "mat1 = np.array(ri(1,10,9)).reshape(3,3)\n",
    "mat2 = np.array(ri(1,10,9)).reshape(3,3)\n",
    "print(\"\\n1st Matrix of random single-digit numbers\\n\",\"-\"*50,\"\\n\",mat1)\n",
    "print(\"\\n2nd Matrix of random single-digit numbers\\n\",\"-\"*50,\"\\n\",mat2)\n",
    "\n",
    "print(\"\\nSum of all numbers in 1st matrix\\n\",\"-\"*50,\"\\n\",np.sum(mat1))\n",
    "print(\"\\nSum of all numbers in columns of 1st matrix\\n\",\"-\"*50,\"\\n\",np.sum(mat1,axis=0))\n",
    "print(\"\\nSum of all numbers in rows of 1st matrix\\n\",\"-\"*50,\"\\n\",np.sum(mat1,axis=1))\n",
    "print(\"\\nMean of all numbers in 1st matrix\\n\",\"-\"*50,\"\\n\",np.mean(mat1))\n",
    "print(\"\\nStandard deviation of all numbers in 1st matrix\\n\",\"-\"*50,\"\\n\",np.std(mat1))\n",
    "\n",
    "mat1 = np.array(ri(1,100,9)).reshape(3,3)\n",
    "print(\"\\nModified matrix of random numbers from 1 to 99\\n\",\"-\"*50,\"\\n\",mat1)\n",
    "print(\"\\nStandard deviation of all numbers in the modified matrix, a larger number\\n\",\"-\"*80,\"\\n\",np.std(mat1))\n",
    "print(\"\\nVariance of all numbers in the modified matrix, a larger number\\n\",\"-\"*80,\"\\n\",np.var(mat1))\n",
    "print(\"\\nMedian of all numbers in the modified matrix\\n\",\"-\"*60,\"\\n\",np.median(mat1))\n",
    "\n",
    "mat2 = np.array(ri(1,100,50)).reshape(10,5)\n",
    "print(\"\\nModified matrix of 50 random numbers from 1 to 99\\n\",\"-\"*50,\"\\n\",mat2)\n",
    "print(\"\\nStandard deviation along the columns in the modified matrix\\n\",\"-\"*60,\"\\n\",np.std(mat2,axis=0))\n",
    "\n",
    "mat1 = np.array(ri(1,100,20)).reshape(4,5)\n",
    "print(\"\\nModified matrix of random numbers from 1 to 49\\n\",\"-\"*50,\"\\n\",mat1)\n",
    "print(\"\\nFlattened and sorted matrix (as vector)\\n\",\"-\"*50,\"\\n\",np.sort(mat1.reshape(1,20)))\n",
    "print(\"\\n50th percentile of all numbers in the modified matrix\\n\",\"-\"*60,\"\\n\",np.percentile(mat1,50))\n",
    "print(\"\\n90th percentile of all numbers in the modified matrix\\n\",\"-\"*60,\"\\n\",np.percentile(mat1,90))"
   ]
  },
  {
   "cell_type": "markdown",
   "metadata": {},
   "source": [
    "### Correlation and covariance"
   ]
  },
  {
   "cell_type": "code",
   "execution_count": 13,
   "metadata": {
    "collapsed": false,
    "scrolled": false
   },
   "outputs": [
    {
     "name": "stdout",
     "output_type": "stream",
     "text": [
      "\n",
      "B is twice that of A plus some random noise\n"
     ]
    },
    {
     "data": {
      "image/png": "[encoded data removed]",
      "text/plain": [
       "<matplotlib.figure.Figure at 0x1cab0387b70>"
      ]
     },
     "metadata": {},
     "output_type": "display_data"
    },
    {
     "name": "stdout",
     "output_type": "stream",
     "text": [
      "[[ 1.          0.57920259]\n",
      " [ 0.57920259  1.        ]]\n",
      "\n",
      "B is 100 minus twice that of A plus some random noise\n"
     ]
    },
    {
     "data": {
      "image/png": "[encoded data removed]",
      "text/plain": [
       "<matplotlib.figure.Figure at 0x1cab0484668>"
      ]
     },
     "metadata": {},
     "output_type": "display_data"
    },
    {
     "name": "stdout",
     "output_type": "stream",
     "text": [
      "\n",
      "[[ 1.       -0.899854]\n",
      " [-0.899854  1.      ]]\n"
     ]
    }
   ],
   "source": [
    "A = ri(1,5,20) # 20 random integeres from a small range (1-10)\n",
    "B = 2*A+5*np.random.randn(20) # B is twice that of A plus some random noise\n",
    "print(\"\\nB is twice that of A plus some random noise\")\n",
    "plt.scatter(A,B) # Scatter plot of B\n",
    "plt.title(\"Scatter plot of A vs. B, expect a small positive correlation\")\n",
    "plt.show()\n",
    "print(np.corrcoef(A,B)) # Correleation coefficient matrix between A and B\n",
    "\n",
    "A = ri(1,50,20) # 20 random integeres from a larger range (1-50)\n",
    "B = 100-2*A+10*np.random.randn(20) # B is 100 minus twice that of A plus some random noise\n",
    "print(\"\\nB is 100 minus twice that of A plus some random noise\")\n",
    "plt.scatter(A,B) # Scatter plot of B\n",
    "plt.title(\"Scatter plot of A vs. B, expect a large negative correlation\")\n",
    "plt.show()\n",
    "print(\"\")\n",
    "print(np.corrcoef(A,B)) # Correleation coefficient matrix between A and B"
   ]
  },
  {
   "cell_type": "markdown",
   "metadata": {
    "collapsed": true
   },
   "source": [
    "## Some matrix/vector operations"
   ]
  },
  {
   "cell_type": "markdown",
   "metadata": {},
   "source": [
    "### Dot/Inner/Outer products"
   ]
  },
  {
   "cell_type": "code",
   "execution_count": 46,
   "metadata": {
    "collapsed": false,
    "scrolled": false
   },
   "outputs": [
    {
     "name": "stdout",
     "output_type": "stream",
     "text": [
      "\n",
      "1st Matrix of 1-9 single-digit numbers (A)\n",
      " -------------------------------------------------- \n",
      " [[1 2 3]\n",
      " [4 5 6]\n",
      " [7 8 9]]\n",
      "\n",
      "2nd Matrix of random single-digit numbers (B)\n",
      " -------------------------------------------------- \n",
      " [[2 9 8]\n",
      " [7 4 7]\n",
      " [2 7 9]]\n",
      "\n",
      "Dot product of A and B \n",
      " -------------------------------------------------- \n",
      " [[ 22  38  49]\n",
      " [ 55  98 121]\n",
      " [ 88 158 193]]\n",
      "\n",
      "1st Vector of 1-5 numbers (A)\n",
      " -------------------------------------------------- \n",
      " [1 2 3 4 5]\n",
      "\n",
      "2nd Vector of 5 random single-digit numbers (B)\n",
      " -------------------------------------------------- \n",
      " [5 8 7 8 6]\n",
      "\n",
      "Inner product of vectors A and B \n",
      " -------------------------------------------------- \n",
      " 104 (sum of all pairwise elements)\n",
      "\n",
      "Outer product of vectors A and B \n",
      " -------------------------------------------------- \n",
      " [[ 5  8  7  8  6]\n",
      " [10 16 14 16 12]\n",
      " [15 24 21 24 18]\n",
      " [20 32 28 32 24]\n",
      " [25 40 35 40 30]]\n"
     ]
    }
   ],
   "source": [
    "A = np.arange(1,10).reshape(3,3)\n",
    "B = ri(1,10,9).reshape(3,3)\n",
    "print(\"\\n1st Matrix of 1-9 single-digit numbers (A)\\n\",\"-\"*50,\"\\n\",A)\n",
    "print(\"\\n2nd Matrix of random single-digit numbers (B)\\n\",\"-\"*50,\"\\n\",B)\n",
    "\n",
    "print(\"\\nDot product of A and B \\n\",\"-\"*50,\"\\n\",np.dot(A,B))\n",
    "\n",
    "A = np.arange(1,6)\n",
    "B = ri(1,10,5)\n",
    "print(\"\\n1st Vector of 1-5 numbers (A)\\n\",\"-\"*50,\"\\n\",A)\n",
    "print(\"\\n2nd Vector of 5 random single-digit numbers (B)\\n\",\"-\"*50,\"\\n\",B)\n",
    "\n",
    "print(\"\\nInner product of vectors A and B \\n\",\"-\"*50,\"\\n\",np.inner(A,B), \"(sum of all pairwise elements)\")\n",
    "print(\"\\nOuter product of vectors A and B \\n\",\"-\"*50,\"\\n\",np.outer(A,B))"
   ]
  },
  {
   "cell_type": "markdown",
   "metadata": {},
   "source": [
    "### Transpose"
   ]
  },
  {
   "cell_type": "code",
   "execution_count": 56,
   "metadata": {
    "collapsed": false,
    "scrolled": false
   },
   "outputs": [
    {
     "name": "stdout",
     "output_type": "stream",
     "text": [
      "\n",
      "3x3 Matrix of random single-digit numbers\n",
      " -------------------------------------------------- \n",
      " [[5 8 8]\n",
      " [9 1 2]\n",
      " [4 8 5]]\n",
      "\n",
      "Matrix transpose\n",
      " -------------------------------------------------- \n",
      " [[5 9 4]\n",
      " [8 1 8]\n",
      " [8 2 5]]\n",
      "\n",
      "3x2 Matrix of random single-digit numbers\n",
      " -------------------------------------------------- \n",
      " [[7 4]\n",
      " [1 3]\n",
      " [6 3]]\n",
      "\n",
      "2x3 Matrix transpose\n",
      " -------------------------------------------------- \n",
      " [[7 1 6]\n",
      " [4 3 3]]\n",
      "\n",
      "Matrix multiplication of B and B-transpose\n",
      " -------------------------------------------------- \n",
      " [[65 19 54]\n",
      " [19 10 15]\n",
      " [54 15 45]]\n"
     ]
    }
   ],
   "source": [
    "A = ri(1,10,9).reshape(3,3)\n",
    "print(\"\\n3x3 Matrix of random single-digit numbers\\n\",\"-\"*50,\"\\n\",A)\n",
    "print(\"\\nMatrix transpose\\n\",\"-\"*50,\"\\n\",np.transpose(A))\n",
    "\n",
    "B = ri(1,10,6).reshape(3,2)\n",
    "print(\"\\n3x2 Matrix of random single-digit numbers\\n\",\"-\"*50,\"\\n\",B)\n",
    "print(\"\\n2x3 Matrix transpose\\n\",\"-\"*50,\"\\n\",np.transpose(B))\n",
    "print(\"\\nMatrix multiplication of B and B-transpose\\n\",\"-\"*50,\"\\n\",np.dot(B, np.transpose(B)))"
   ]
  },
  {
   "cell_type": "markdown",
   "metadata": {},
   "source": [
    "### Trace"
   ]
  },
  {
   "cell_type": "code",
   "execution_count": 59,
   "metadata": {
    "collapsed": false,
    "scrolled": true
   },
   "outputs": [
    {
     "name": "stdout",
     "output_type": "stream",
     "text": [
      "\n",
      "4x4 Matrix of random single-digit numbers\n",
      " -------------------------------------------------- \n",
      " [[8 5 5 5]\n",
      " [4 5 9 3]\n",
      " [3 6 9 3]\n",
      " [1 4 5 6]]\n",
      "\n",
      "Matrix trace\n",
      " -------------------------------------------------- \n",
      " 28\n",
      "\n",
      "Matrix trace with ofset +1 (upper triangle)\n",
      " -------------------------------------------------- \n",
      " 17\n",
      "\n",
      "Matrix trace with ofset -1 (lower triangle)\n",
      " -------------------------------------------------- \n",
      " 15\n"
     ]
    }
   ],
   "source": [
    "A = ri(1,10,16).reshape(4,4)\n",
    "print(\"\\n4x4 Matrix of random single-digit numbers\\n\",\"-\"*50,\"\\n\",A)\n",
    "print(\"\\nMatrix trace\\n\",\"-\"*50,\"\\n\",np.trace(A))\n",
    "print(\"\\nMatrix trace with ofset +1 (upper triangle)\\n\",\"-\"*50,\"\\n\",np.trace(A,offset=1))\n",
    "print(\"\\nMatrix trace with ofset -1 (lower triangle)\\n\",\"-\"*50,\"\\n\",np.trace(A,offset=-1))"
   ]
  }
 ],
 "metadata": {
  "kernelspec": {
   "display_name": "Python 3",
   "language": "python",
   "name": "python3"
  },
  "language_info": {
   "codemirror_mode": {
    "name": "ipython",
    "version": 3
   },
   "file_extension": ".py",
   "mimetype": "text/x-python",
   "name": "python",
   "nbconvert_exporter": "python",
   "pygments_lexer": "ipython3",
   "version": "3.6.0"
  }
 },
 "nbformat": 4,
 "nbformat_minor": 2
}
